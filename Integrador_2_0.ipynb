{
 "cells": [
  {
   "cell_type": "markdown",
   "metadata": {},
   "source": [
    "# Projeto Integrador \n",
    "Digital House Data Science\n",
    "\n",
    "## Integrantes:"
   ]
  },
  {
   "cell_type": "markdown",
   "metadata": {},
   "source": [
    "# Objetivo:\n",
    "## Este projeto tem os seguintes objetivos:\n",
    "### Realizar uma análise de carrinhos de uma plataforma de compra e comparação de preços. \n",
    "### Com base nesta análise faremos um sistema \"predição\" para o resultado do carrinho, ou seja, se será um carrinho que seguirá o fúnil de venda ou será abandonado.\n",
    "### Por fim, será realizado um sistema de recomendação para transformar possíveis carrinhos abandonados em carrinhos de sucesso."
   ]
  },
  {
   "cell_type": "markdown",
   "metadata": {},
   "source": [
    "# Bases:\n",
    "## Para este projeto serão utilizadas informações de carrinhos compostos durante o período de 2018 e 2019, estes carrinhos estão classificados em três tipos: Carrinho Abandonado, Aprovado, Cancelado/Recusado, Pendente. \n",
    "## O tipo de cliente a ser analisado será PJ. \n",
    "## Usaremos apenas a região de São Paulo, pois é a região com mais incidências."
   ]
  },
  {
   "cell_type": "code",
   "execution_count": 1,
   "metadata": {
    "ExecuteTime": {
     "end_time": "2019-11-13T20:26:11.244464Z",
     "start_time": "2019-11-13T20:26:02.522351Z"
    }
   },
   "outputs": [],
   "source": [
    "#importando bibliotecas básicas\n",
    "\n",
    "import pandas as pd\n",
    "import numpy as np\n",
    "import matplotlib.pyplot as plt\n",
    "import seaborn as sns\n",
    "\n",
    "%matplotlib inline\n"
   ]
  },
  {
   "cell_type": "code",
   "execution_count": 2,
   "metadata": {
    "ExecuteTime": {
     "end_time": "2019-11-13T20:26:44.718852Z",
     "start_time": "2019-11-13T20:26:44.711870Z"
    }
   },
   "outputs": [],
   "source": [
    "# Configurando o Pandas para a dimensão das tabelas\n",
    "\n",
    "pd.set_option('display.max_columns', 200)\n",
    "pd.set_option('display.width', 1000)"
   ]
  },
  {
   "cell_type": "code",
   "execution_count": 6,
   "metadata": {
    "ExecuteTime": {
     "end_time": "2019-11-13T20:33:39.040567Z",
     "start_time": "2019-11-13T20:33:37.696861Z"
    }
   },
   "outputs": [],
   "source": [
    "# Importando os dados\n",
    "\n",
    "df_compras = pd.read_csv(r'dados\\dados_empresa\\Tabela das Compras.csv')\n",
    "df_consumidores = pd.read_csv(r'dados\\dados_empresa\\consumidores.csv')"
   ]
  },
  {
   "cell_type": "code",
   "execution_count": 7,
   "metadata": {
    "ExecuteTime": {
     "end_time": "2019-11-13T20:33:56.521010Z",
     "start_time": "2019-11-13T20:33:56.480119Z"
    }
   },
   "outputs": [
    {
     "data": {
      "text/html": [
       "<div>\n",
       "<style scoped>\n",
       "    .dataframe tbody tr th:only-of-type {\n",
       "        vertical-align: middle;\n",
       "    }\n",
       "\n",
       "    .dataframe tbody tr th {\n",
       "        vertical-align: top;\n",
       "    }\n",
       "\n",
       "    .dataframe thead th {\n",
       "        text-align: right;\n",
       "    }\n",
       "</style>\n",
       "<table border=\"1\" class=\"dataframe\">\n",
       "  <thead>\n",
       "    <tr style=\"text-align: right;\">\n",
       "      <th></th>\n",
       "      <th>id_pedido</th>\n",
       "      <th>id_carrinho</th>\n",
       "      <th>status</th>\n",
       "      <th>desc_status</th>\n",
       "      <th>id_cliente</th>\n",
       "      <th>id_distribuidor</th>\n",
       "      <th>id_sku</th>\n",
       "      <th>id_produto</th>\n",
       "      <th>produto</th>\n",
       "      <th>anomes_carrinho</th>\n",
       "      <th>data_carrinho</th>\n",
       "      <th>anomes_status_pedido</th>\n",
       "      <th>data_status_pedido</th>\n",
       "      <th>quantidade</th>\n",
       "      <th>volumepedidos</th>\n",
       "      <th>volumecompras</th>\n",
       "      <th>volumependente</th>\n",
       "      <th>volumecanceladorecusado</th>\n",
       "      <th>meio_pagamento</th>\n",
       "    </tr>\n",
       "  </thead>\n",
       "  <tbody>\n",
       "    <tr>\n",
       "      <th>0</th>\n",
       "      <td>107783</td>\n",
       "      <td>71935</td>\n",
       "      <td>0</td>\n",
       "      <td>Carrinho Abandonado</td>\n",
       "      <td>30696</td>\n",
       "      <td>137</td>\n",
       "      <td>4696.0</td>\n",
       "      <td>16544.0</td>\n",
       "      <td>PAPEL TOALHA INTERFOLHA 2 DOBRAS SOFT BRANCO P...</td>\n",
       "      <td>201812</td>\n",
       "      <td>2018-12-11 12:05:40.081189+00</td>\n",
       "      <td>NaN</td>\n",
       "      <td>NaN</td>\n",
       "      <td>4.0</td>\n",
       "      <td>59.96</td>\n",
       "      <td>NaN</td>\n",
       "      <td>NaN</td>\n",
       "      <td>NaN</td>\n",
       "      <td>DEPÓSITO EM CONTA ANTECIPADO</td>\n",
       "    </tr>\n",
       "    <tr>\n",
       "      <th>1</th>\n",
       "      <td>3</td>\n",
       "      <td>3</td>\n",
       "      <td>0</td>\n",
       "      <td>Carrinho Abandonado</td>\n",
       "      <td>3</td>\n",
       "      <td>15</td>\n",
       "      <td>NaN</td>\n",
       "      <td>NaN</td>\n",
       "      <td>- BALIX</td>\n",
       "      <td>201511</td>\n",
       "      <td>2015-11-11 20:28:39.699416+00</td>\n",
       "      <td>NaN</td>\n",
       "      <td>NaN</td>\n",
       "      <td>1.0</td>\n",
       "      <td>22.90</td>\n",
       "      <td>NaN</td>\n",
       "      <td>NaN</td>\n",
       "      <td>NaN</td>\n",
       "      <td>DESCONTINUADO</td>\n",
       "    </tr>\n",
       "    <tr>\n",
       "      <th>2</th>\n",
       "      <td>53780</td>\n",
       "      <td>33739</td>\n",
       "      <td>0</td>\n",
       "      <td>Carrinho Abandonado</td>\n",
       "      <td>3</td>\n",
       "      <td>4258</td>\n",
       "      <td>29813.0</td>\n",
       "      <td>1657959.0</td>\n",
       "      <td>CÁPSULAS DE CAFÉ ESPRESSO FORTISSIMO PARA MÁQU...</td>\n",
       "      <td>201804</td>\n",
       "      <td>2018-04-18 15:01:30.063939+00</td>\n",
       "      <td>NaN</td>\n",
       "      <td>NaN</td>\n",
       "      <td>1.0</td>\n",
       "      <td>14.50</td>\n",
       "      <td>NaN</td>\n",
       "      <td>NaN</td>\n",
       "      <td>NaN</td>\n",
       "      <td>DESCONTINUADO</td>\n",
       "    </tr>\n",
       "    <tr>\n",
       "      <th>3</th>\n",
       "      <td>53782</td>\n",
       "      <td>33737</td>\n",
       "      <td>0</td>\n",
       "      <td>Carrinho Abandonado</td>\n",
       "      <td>4583</td>\n",
       "      <td>2900</td>\n",
       "      <td>18244.0</td>\n",
       "      <td>637259.0</td>\n",
       "      <td>ESCOVA DENTAL MACIA ESSENCIAL CLEAN  UNIDADE -...</td>\n",
       "      <td>201804</td>\n",
       "      <td>2018-04-18 14:48:41.568361+00</td>\n",
       "      <td>NaN</td>\n",
       "      <td>NaN</td>\n",
       "      <td>1.0</td>\n",
       "      <td>1.69</td>\n",
       "      <td>NaN</td>\n",
       "      <td>NaN</td>\n",
       "      <td>NaN</td>\n",
       "      <td>DESCONTINUADO</td>\n",
       "    </tr>\n",
       "    <tr>\n",
       "      <th>4</th>\n",
       "      <td>53773</td>\n",
       "      <td>33739</td>\n",
       "      <td>0</td>\n",
       "      <td>Carrinho Abandonado</td>\n",
       "      <td>3</td>\n",
       "      <td>1203</td>\n",
       "      <td>13021.0</td>\n",
       "      <td>61708.0</td>\n",
       "      <td>MACARRÃO ESPAGUETE (8) COM OVOS PACOTE 500G - ...</td>\n",
       "      <td>201804</td>\n",
       "      <td>2018-04-18 15:01:30.063939+00</td>\n",
       "      <td>NaN</td>\n",
       "      <td>NaN</td>\n",
       "      <td>24.0</td>\n",
       "      <td>45.12</td>\n",
       "      <td>NaN</td>\n",
       "      <td>NaN</td>\n",
       "      <td>NaN</td>\n",
       "      <td>DESCONTINUADO</td>\n",
       "    </tr>\n",
       "  </tbody>\n",
       "</table>\n",
       "</div>"
      ],
      "text/plain": [
       "   id_pedido  id_carrinho  status          desc_status  id_cliente  id_distribuidor   id_sku  id_produto                                            produto  anomes_carrinho                  data_carrinho  anomes_status_pedido data_status_pedido  quantidade  volumepedidos  volumecompras  volumependente  volumecanceladorecusado                meio_pagamento\n",
       "0     107783        71935       0  Carrinho Abandonado       30696              137   4696.0     16544.0  PAPEL TOALHA INTERFOLHA 2 DOBRAS SOFT BRANCO P...           201812  2018-12-11 12:05:40.081189+00                   NaN                NaN         4.0          59.96            NaN             NaN                      NaN  DEPÓSITO EM CONTA ANTECIPADO\n",
       "1          3            3       0  Carrinho Abandonado           3               15      NaN         NaN                                            - BALIX           201511  2015-11-11 20:28:39.699416+00                   NaN                NaN         1.0          22.90            NaN             NaN                      NaN                 DESCONTINUADO\n",
       "2      53780        33739       0  Carrinho Abandonado           3             4258  29813.0   1657959.0  CÁPSULAS DE CAFÉ ESPRESSO FORTISSIMO PARA MÁQU...           201804  2018-04-18 15:01:30.063939+00                   NaN                NaN         1.0          14.50            NaN             NaN                      NaN                 DESCONTINUADO\n",
       "3      53782        33737       0  Carrinho Abandonado        4583             2900  18244.0    637259.0  ESCOVA DENTAL MACIA ESSENCIAL CLEAN  UNIDADE -...           201804  2018-04-18 14:48:41.568361+00                   NaN                NaN         1.0           1.69            NaN             NaN                      NaN                 DESCONTINUADO\n",
       "4      53773        33739       0  Carrinho Abandonado           3             1203  13021.0     61708.0  MACARRÃO ESPAGUETE (8) COM OVOS PACOTE 500G - ...           201804  2018-04-18 15:01:30.063939+00                   NaN                NaN        24.0          45.12            NaN             NaN                      NaN                 DESCONTINUADO"
      ]
     },
     "execution_count": 7,
     "metadata": {},
     "output_type": "execute_result"
    }
   ],
   "source": [
    "# Dando uma olhada nas tabelas\n",
    "df_compras.head()"
   ]
  },
  {
   "cell_type": "code",
   "execution_count": 12,
   "metadata": {
    "ExecuteTime": {
     "end_time": "2019-11-13T20:40:59.635644Z",
     "start_time": "2019-11-13T20:40:59.591762Z"
    }
   },
   "outputs": [
    {
     "data": {
      "text/html": [
       "<div>\n",
       "<style scoped>\n",
       "    .dataframe tbody tr th:only-of-type {\n",
       "        vertical-align: middle;\n",
       "    }\n",
       "\n",
       "    .dataframe tbody tr th {\n",
       "        vertical-align: top;\n",
       "    }\n",
       "\n",
       "    .dataframe thead th {\n",
       "        text-align: right;\n",
       "    }\n",
       "</style>\n",
       "<table border=\"1\" class=\"dataframe\">\n",
       "  <thead>\n",
       "    <tr style=\"text-align: right;\">\n",
       "      <th></th>\n",
       "      <th>id_pedido</th>\n",
       "      <th>id_carrinho</th>\n",
       "      <th>status</th>\n",
       "      <th>desc_status</th>\n",
       "      <th>user_id</th>\n",
       "      <th>id_distribuidor</th>\n",
       "      <th>id_sku</th>\n",
       "      <th>id_produto</th>\n",
       "      <th>produto</th>\n",
       "      <th>anomes_carrinho</th>\n",
       "      <th>data_carrinho</th>\n",
       "      <th>anomes_status_pedido</th>\n",
       "      <th>data_status_pedido</th>\n",
       "      <th>quantidade</th>\n",
       "      <th>volumepedidos</th>\n",
       "      <th>volumecompras</th>\n",
       "      <th>volumependente</th>\n",
       "      <th>volumecanceladorecusado</th>\n",
       "      <th>meio_pagamento</th>\n",
       "    </tr>\n",
       "  </thead>\n",
       "  <tbody>\n",
       "    <tr>\n",
       "      <th>298697</th>\n",
       "      <td>110</td>\n",
       "      <td>122</td>\n",
       "      <td>4</td>\n",
       "      <td>Aprovado</td>\n",
       "      <td>3</td>\n",
       "      <td>33</td>\n",
       "      <td>NaN</td>\n",
       "      <td>NaN</td>\n",
       "      <td>- TECNUTRI</td>\n",
       "      <td>201511</td>\n",
       "      <td>2015-11-24 17:44:36.999996+00</td>\n",
       "      <td>201511.0</td>\n",
       "      <td>2015-11-24 17:44:36.999996+00</td>\n",
       "      <td>1.0</td>\n",
       "      <td>8.99</td>\n",
       "      <td>8.99</td>\n",
       "      <td>NaN</td>\n",
       "      <td>NaN</td>\n",
       "      <td>DESCONTINUADO</td>\n",
       "    </tr>\n",
       "    <tr>\n",
       "      <th>298698</th>\n",
       "      <td>72</td>\n",
       "      <td>82</td>\n",
       "      <td>4</td>\n",
       "      <td>Aprovado</td>\n",
       "      <td>3</td>\n",
       "      <td>33</td>\n",
       "      <td>NaN</td>\n",
       "      <td>NaN</td>\n",
       "      <td>- PICININ</td>\n",
       "      <td>201511</td>\n",
       "      <td>2015-11-17 15:17:10.499341+00</td>\n",
       "      <td>201511.0</td>\n",
       "      <td>2015-11-17 15:17:10.499341+00</td>\n",
       "      <td>6.0</td>\n",
       "      <td>92.70</td>\n",
       "      <td>92.70</td>\n",
       "      <td>NaN</td>\n",
       "      <td>NaN</td>\n",
       "      <td>DESCONTINUADO</td>\n",
       "    </tr>\n",
       "    <tr>\n",
       "      <th>298699</th>\n",
       "      <td>72</td>\n",
       "      <td>82</td>\n",
       "      <td>4</td>\n",
       "      <td>Aprovado</td>\n",
       "      <td>3</td>\n",
       "      <td>33</td>\n",
       "      <td>NaN</td>\n",
       "      <td>NaN</td>\n",
       "      <td>- NOBRE</td>\n",
       "      <td>201511</td>\n",
       "      <td>2015-11-17 15:17:10.499341+00</td>\n",
       "      <td>201511.0</td>\n",
       "      <td>2015-11-17 15:17:10.499341+00</td>\n",
       "      <td>5.0</td>\n",
       "      <td>61.25</td>\n",
       "      <td>61.25</td>\n",
       "      <td>NaN</td>\n",
       "      <td>NaN</td>\n",
       "      <td>DESCONTINUADO</td>\n",
       "    </tr>\n",
       "    <tr>\n",
       "      <th>298700</th>\n",
       "      <td>72</td>\n",
       "      <td>82</td>\n",
       "      <td>4</td>\n",
       "      <td>Aprovado</td>\n",
       "      <td>3</td>\n",
       "      <td>33</td>\n",
       "      <td>NaN</td>\n",
       "      <td>NaN</td>\n",
       "      <td>- VIGOR</td>\n",
       "      <td>201511</td>\n",
       "      <td>2015-11-17 15:17:10.499341+00</td>\n",
       "      <td>201511.0</td>\n",
       "      <td>2015-11-17 15:17:10.499341+00</td>\n",
       "      <td>12.0</td>\n",
       "      <td>105.96</td>\n",
       "      <td>105.96</td>\n",
       "      <td>NaN</td>\n",
       "      <td>NaN</td>\n",
       "      <td>DESCONTINUADO</td>\n",
       "    </tr>\n",
       "    <tr>\n",
       "      <th>298701</th>\n",
       "      <td>4</td>\n",
       "      <td>4</td>\n",
       "      <td>3</td>\n",
       "      <td>Cancelado/Recusado</td>\n",
       "      <td>3</td>\n",
       "      <td>15</td>\n",
       "      <td>NaN</td>\n",
       "      <td>NaN</td>\n",
       "      <td>- BALIX</td>\n",
       "      <td>201511</td>\n",
       "      <td>2015-11-11 20:33:45.601018+00</td>\n",
       "      <td>201511.0</td>\n",
       "      <td>2015-11-11 20:33:45.601018+00</td>\n",
       "      <td>10.0</td>\n",
       "      <td>339.00</td>\n",
       "      <td>NaN</td>\n",
       "      <td>NaN</td>\n",
       "      <td>339.0</td>\n",
       "      <td>DESCONTINUADO</td>\n",
       "    </tr>\n",
       "  </tbody>\n",
       "</table>\n",
       "</div>"
      ],
      "text/plain": [
       "        id_pedido  id_carrinho  status         desc_status  user_id  id_distribuidor  id_sku  id_produto     produto  anomes_carrinho                  data_carrinho  anomes_status_pedido             data_status_pedido  quantidade  volumepedidos  volumecompras  volumependente  volumecanceladorecusado meio_pagamento\n",
       "298697        110          122       4            Aprovado        3               33     NaN         NaN  - TECNUTRI           201511  2015-11-24 17:44:36.999996+00              201511.0  2015-11-24 17:44:36.999996+00         1.0           8.99           8.99             NaN                      NaN  DESCONTINUADO\n",
       "298698         72           82       4            Aprovado        3               33     NaN         NaN   - PICININ           201511  2015-11-17 15:17:10.499341+00              201511.0  2015-11-17 15:17:10.499341+00         6.0          92.70          92.70             NaN                      NaN  DESCONTINUADO\n",
       "298699         72           82       4            Aprovado        3               33     NaN         NaN     - NOBRE           201511  2015-11-17 15:17:10.499341+00              201511.0  2015-11-17 15:17:10.499341+00         5.0          61.25          61.25             NaN                      NaN  DESCONTINUADO\n",
       "298700         72           82       4            Aprovado        3               33     NaN         NaN     - VIGOR           201511  2015-11-17 15:17:10.499341+00              201511.0  2015-11-17 15:17:10.499341+00        12.0         105.96         105.96             NaN                      NaN  DESCONTINUADO\n",
       "298701          4            4       3  Cancelado/Recusado        3               15     NaN         NaN     - BALIX           201511  2015-11-11 20:33:45.601018+00              201511.0  2015-11-11 20:33:45.601018+00        10.0         339.00            NaN             NaN                    339.0  DESCONTINUADO"
      ]
     },
     "execution_count": 12,
     "metadata": {},
     "output_type": "execute_result"
    }
   ],
   "source": [
    "df_compras.tail()"
   ]
  },
  {
   "cell_type": "code",
   "execution_count": 8,
   "metadata": {
    "ExecuteTime": {
     "end_time": "2019-11-13T20:33:58.900299Z",
     "start_time": "2019-11-13T20:33:58.870348Z"
    }
   },
   "outputs": [
    {
     "data": {
      "text/html": [
       "<div>\n",
       "<style scoped>\n",
       "    .dataframe tbody tr th:only-of-type {\n",
       "        vertical-align: middle;\n",
       "    }\n",
       "\n",
       "    .dataframe tbody tr th {\n",
       "        vertical-align: top;\n",
       "    }\n",
       "\n",
       "    .dataframe thead th {\n",
       "        text-align: right;\n",
       "    }\n",
       "</style>\n",
       "<table border=\"1\" class=\"dataframe\">\n",
       "  <thead>\n",
       "    <tr style=\"text-align: right;\">\n",
       "      <th></th>\n",
       "      <th>user_id</th>\n",
       "      <th>consumidor_id</th>\n",
       "      <th>cep</th>\n",
       "      <th>cidade</th>\n",
       "      <th>cidade_id</th>\n",
       "      <th>estado</th>\n",
       "      <th>estado_id</th>\n",
       "      <th>anomes_cadastro</th>\n",
       "      <th>data_cadastro</th>\n",
       "      <th>data_ultimo_login</th>\n",
       "      <th>data_aniversario_pf</th>\n",
       "      <th>cadastro_com_cidade</th>\n",
       "      <th>tipo</th>\n",
       "    </tr>\n",
       "  </thead>\n",
       "  <tbody>\n",
       "    <tr>\n",
       "      <th>0</th>\n",
       "      <td>1642968</td>\n",
       "      <td>8494</td>\n",
       "      <td>NaN</td>\n",
       "      <td>NaN</td>\n",
       "      <td>NaN</td>\n",
       "      <td>NaN</td>\n",
       "      <td>NaN</td>\n",
       "      <td>201910</td>\n",
       "      <td>31-10-2019</td>\n",
       "      <td>31-10-2019</td>\n",
       "      <td>NaN</td>\n",
       "      <td>0</td>\n",
       "      <td>NaN</td>\n",
       "    </tr>\n",
       "    <tr>\n",
       "      <th>1</th>\n",
       "      <td>1642861</td>\n",
       "      <td>8493</td>\n",
       "      <td>11704-400</td>\n",
       "      <td>PRAIA GRANDE</td>\n",
       "      <td>5167.0</td>\n",
       "      <td>SÃO PAULO</td>\n",
       "      <td>26.0</td>\n",
       "      <td>201910</td>\n",
       "      <td>31-10-2019</td>\n",
       "      <td>31-10-2019</td>\n",
       "      <td>NaN</td>\n",
       "      <td>1</td>\n",
       "      <td>PJ</td>\n",
       "    </tr>\n",
       "    <tr>\n",
       "      <th>2</th>\n",
       "      <td>1642831</td>\n",
       "      <td>8492</td>\n",
       "      <td>NaN</td>\n",
       "      <td>NaN</td>\n",
       "      <td>NaN</td>\n",
       "      <td>NaN</td>\n",
       "      <td>NaN</td>\n",
       "      <td>201910</td>\n",
       "      <td>31-10-2019</td>\n",
       "      <td>31-10-2019</td>\n",
       "      <td>NaN</td>\n",
       "      <td>0</td>\n",
       "      <td>NaN</td>\n",
       "    </tr>\n",
       "    <tr>\n",
       "      <th>3</th>\n",
       "      <td>1642498</td>\n",
       "      <td>8491</td>\n",
       "      <td>13152-246</td>\n",
       "      <td>COSMÓPOLIS</td>\n",
       "      <td>4849.0</td>\n",
       "      <td>SÃO PAULO</td>\n",
       "      <td>26.0</td>\n",
       "      <td>201910</td>\n",
       "      <td>31-10-2019</td>\n",
       "      <td>31-10-2019</td>\n",
       "      <td>NaN</td>\n",
       "      <td>1</td>\n",
       "      <td>PJ</td>\n",
       "    </tr>\n",
       "    <tr>\n",
       "      <th>4</th>\n",
       "      <td>1640977</td>\n",
       "      <td>8490</td>\n",
       "      <td>05712-080</td>\n",
       "      <td>SÃO PAULO</td>\n",
       "      <td>5270.0</td>\n",
       "      <td>SÃO PAULO</td>\n",
       "      <td>26.0</td>\n",
       "      <td>201910</td>\n",
       "      <td>30-10-2019</td>\n",
       "      <td>30-10-2019</td>\n",
       "      <td>15-06-1982</td>\n",
       "      <td>1</td>\n",
       "      <td>PF</td>\n",
       "    </tr>\n",
       "  </tbody>\n",
       "</table>\n",
       "</div>"
      ],
      "text/plain": [
       "   user_id  consumidor_id        cep        cidade  cidade_id     estado  estado_id  anomes_cadastro data_cadastro data_ultimo_login data_aniversario_pf  cadastro_com_cidade tipo\n",
       "0  1642968           8494        NaN           NaN        NaN        NaN        NaN           201910    31-10-2019        31-10-2019                 NaN                    0  NaN\n",
       "1  1642861           8493  11704-400  PRAIA GRANDE     5167.0  SÃO PAULO       26.0           201910    31-10-2019        31-10-2019                 NaN                    1   PJ\n",
       "2  1642831           8492        NaN           NaN        NaN        NaN        NaN           201910    31-10-2019        31-10-2019                 NaN                    0  NaN\n",
       "3  1642498           8491  13152-246    COSMÓPOLIS     4849.0  SÃO PAULO       26.0           201910    31-10-2019        31-10-2019                 NaN                    1   PJ\n",
       "4  1640977           8490  05712-080     SÃO PAULO     5270.0  SÃO PAULO       26.0           201910    30-10-2019        30-10-2019          15-06-1982                    1   PF"
      ]
     },
     "execution_count": 8,
     "metadata": {},
     "output_type": "execute_result"
    }
   ],
   "source": [
    "df_consumidores.head()"
   ]
  },
  {
   "cell_type": "code",
   "execution_count": 11,
   "metadata": {
    "ExecuteTime": {
     "end_time": "2019-11-13T20:40:39.831878Z",
     "start_time": "2019-11-13T20:40:39.800930Z"
    }
   },
   "outputs": [
    {
     "data": {
      "text/html": [
       "<div>\n",
       "<style scoped>\n",
       "    .dataframe tbody tr th:only-of-type {\n",
       "        vertical-align: middle;\n",
       "    }\n",
       "\n",
       "    .dataframe tbody tr th {\n",
       "        vertical-align: top;\n",
       "    }\n",
       "\n",
       "    .dataframe thead th {\n",
       "        text-align: right;\n",
       "    }\n",
       "</style>\n",
       "<table border=\"1\" class=\"dataframe\">\n",
       "  <thead>\n",
       "    <tr style=\"text-align: right;\">\n",
       "      <th></th>\n",
       "      <th>user_id</th>\n",
       "      <th>consumidor_id</th>\n",
       "      <th>cep</th>\n",
       "      <th>cidade</th>\n",
       "      <th>cidade_id</th>\n",
       "      <th>estado</th>\n",
       "      <th>estado_id</th>\n",
       "      <th>anomes_cadastro</th>\n",
       "      <th>data_cadastro</th>\n",
       "      <th>data_ultimo_login</th>\n",
       "      <th>data_aniversario_pf</th>\n",
       "      <th>cadastro_com_cidade</th>\n",
       "      <th>tipo</th>\n",
       "    </tr>\n",
       "  </thead>\n",
       "  <tbody>\n",
       "    <tr>\n",
       "      <th>8083</th>\n",
       "      <td>10</td>\n",
       "      <td>5</td>\n",
       "      <td>NaN</td>\n",
       "      <td>NaN</td>\n",
       "      <td>NaN</td>\n",
       "      <td>NaN</td>\n",
       "      <td>NaN</td>\n",
       "      <td>201510</td>\n",
       "      <td>09-10-2015</td>\n",
       "      <td>09-10-2015</td>\n",
       "      <td>NaN</td>\n",
       "      <td>0</td>\n",
       "      <td>NaN</td>\n",
       "    </tr>\n",
       "    <tr>\n",
       "      <th>8084</th>\n",
       "      <td>9</td>\n",
       "      <td>4</td>\n",
       "      <td>NaN</td>\n",
       "      <td>NaN</td>\n",
       "      <td>NaN</td>\n",
       "      <td>NaN</td>\n",
       "      <td>NaN</td>\n",
       "      <td>201510</td>\n",
       "      <td>09-10-2015</td>\n",
       "      <td>09-10-2015</td>\n",
       "      <td>NaN</td>\n",
       "      <td>0</td>\n",
       "      <td>NaN</td>\n",
       "    </tr>\n",
       "    <tr>\n",
       "      <th>8085</th>\n",
       "      <td>5</td>\n",
       "      <td>3</td>\n",
       "      <td>13960-000</td>\n",
       "      <td>SOCORRO</td>\n",
       "      <td>5288.0</td>\n",
       "      <td>SÃO PAULO</td>\n",
       "      <td>26.0</td>\n",
       "      <td>201510</td>\n",
       "      <td>03-10-2015</td>\n",
       "      <td>26-06-2019</td>\n",
       "      <td>NaN</td>\n",
       "      <td>1</td>\n",
       "      <td>PJ</td>\n",
       "    </tr>\n",
       "    <tr>\n",
       "      <th>8086</th>\n",
       "      <td>3</td>\n",
       "      <td>2</td>\n",
       "      <td>13960-000</td>\n",
       "      <td>SÃO PAULO</td>\n",
       "      <td>5270.0</td>\n",
       "      <td>SÃO PAULO</td>\n",
       "      <td>26.0</td>\n",
       "      <td>201509</td>\n",
       "      <td>17-09-2015</td>\n",
       "      <td>30-10-2019</td>\n",
       "      <td>NaN</td>\n",
       "      <td>1</td>\n",
       "      <td>PJ</td>\n",
       "    </tr>\n",
       "    <tr>\n",
       "      <th>8087</th>\n",
       "      <td>1</td>\n",
       "      <td>1</td>\n",
       "      <td>56306-425</td>\n",
       "      <td>NaN</td>\n",
       "      <td>NaN</td>\n",
       "      <td>NaN</td>\n",
       "      <td>NaN</td>\n",
       "      <td>201509</td>\n",
       "      <td>16-09-2015</td>\n",
       "      <td>13-11-2015</td>\n",
       "      <td>NaN</td>\n",
       "      <td>0</td>\n",
       "      <td>NaN</td>\n",
       "    </tr>\n",
       "  </tbody>\n",
       "</table>\n",
       "</div>"
      ],
      "text/plain": [
       "      user_id  consumidor_id        cep     cidade  cidade_id     estado  estado_id  anomes_cadastro data_cadastro data_ultimo_login data_aniversario_pf  cadastro_com_cidade tipo\n",
       "8083       10              5        NaN        NaN        NaN        NaN        NaN           201510    09-10-2015        09-10-2015                 NaN                    0  NaN\n",
       "8084        9              4        NaN        NaN        NaN        NaN        NaN           201510    09-10-2015        09-10-2015                 NaN                    0  NaN\n",
       "8085        5              3  13960-000    SOCORRO     5288.0  SÃO PAULO       26.0           201510    03-10-2015        26-06-2019                 NaN                    1   PJ\n",
       "8086        3              2  13960-000  SÃO PAULO     5270.0  SÃO PAULO       26.0           201509    17-09-2015        30-10-2019                 NaN                    1   PJ\n",
       "8087        1              1  56306-425        NaN        NaN        NaN        NaN           201509    16-09-2015        13-11-2015                 NaN                    0  NaN"
      ]
     },
     "execution_count": 11,
     "metadata": {},
     "output_type": "execute_result"
    }
   ],
   "source": [
    "df_consumidores.tail()"
   ]
  },
  {
   "cell_type": "code",
   "execution_count": 9,
   "metadata": {
    "ExecuteTime": {
     "end_time": "2019-11-13T20:38:41.675819Z",
     "start_time": "2019-11-13T20:38:41.628948Z"
    }
   },
   "outputs": [],
   "source": [
    "# Vamos igualar a nomeação da coluna sobre o cliente pois já consultamos e tratam-se da mesma informação.\n",
    "df_compras.rename(columns= {'id_cliente': 'user_id'}, inplace=True)"
   ]
  },
  {
   "cell_type": "code",
   "execution_count": 10,
   "metadata": {
    "ExecuteTime": {
     "end_time": "2019-11-13T20:38:50.035834Z",
     "start_time": "2019-11-13T20:38:50.027852Z"
    }
   },
   "outputs": [
    {
     "data": {
      "text/plain": [
       "Index(['id_pedido', 'id_carrinho', 'status', 'desc_status', 'user_id', 'id_distribuidor', 'id_sku', 'id_produto', 'produto', 'anomes_carrinho', 'data_carrinho', 'anomes_status_pedido', 'data_status_pedido', 'quantidade', 'volumepedidos', 'volumecompras', 'volumependente', 'volumecanceladorecusado', 'meio_pagamento'], dtype='object')"
      ]
     },
     "execution_count": 10,
     "metadata": {},
     "output_type": "execute_result"
    }
   ],
   "source": [
    "# Apenas verificando (computação não é uma área exata rs)\n",
    "df_compras.columns"
   ]
  },
  {
   "cell_type": "code",
   "execution_count": 14,
   "metadata": {
    "ExecuteTime": {
     "end_time": "2019-11-13T20:43:56.052747Z",
     "start_time": "2019-11-13T20:43:56.042777Z"
    }
   },
   "outputs": [
    {
     "data": {
      "text/plain": [
       "Index(['user_id', 'consumidor_id', 'cep', 'cidade', 'cidade_id', 'estado', 'estado_id', 'anomes_cadastro', 'data_cadastro', 'data_ultimo_login', 'data_aniversario_pf', 'cadastro_com_cidade', 'tipo'], dtype='object')"
      ]
     },
     "execution_count": 14,
     "metadata": {},
     "output_type": "execute_result"
    }
   ],
   "source": [
    "df_consumidores.columns"
   ]
  },
  {
   "cell_type": "code",
   "execution_count": 21,
   "metadata": {
    "ExecuteTime": {
     "end_time": "2019-11-13T20:48:46.221287Z",
     "start_time": "2019-11-13T20:48:45.503207Z"
    }
   },
   "outputs": [],
   "source": [
    "# Vamos juntar as Tabelas para termos as informações relevantes (que no caso é apenas o tipo) em apenas um DataFrame\n",
    "df_compras_consu = pd.merge(df_consumidores, df_compras, on = 'user_id')"
   ]
  },
  {
   "cell_type": "code",
   "execution_count": 23,
   "metadata": {
    "ExecuteTime": {
     "end_time": "2019-11-13T20:48:59.951478Z",
     "start_time": "2019-11-13T20:48:59.891639Z"
    }
   },
   "outputs": [
    {
     "data": {
      "text/html": [
       "<div>\n",
       "<style scoped>\n",
       "    .dataframe tbody tr th:only-of-type {\n",
       "        vertical-align: middle;\n",
       "    }\n",
       "\n",
       "    .dataframe tbody tr th {\n",
       "        vertical-align: top;\n",
       "    }\n",
       "\n",
       "    .dataframe thead th {\n",
       "        text-align: right;\n",
       "    }\n",
       "</style>\n",
       "<table border=\"1\" class=\"dataframe\">\n",
       "  <thead>\n",
       "    <tr style=\"text-align: right;\">\n",
       "      <th></th>\n",
       "      <th>user_id</th>\n",
       "      <th>consumidor_id</th>\n",
       "      <th>cep</th>\n",
       "      <th>cidade</th>\n",
       "      <th>cidade_id</th>\n",
       "      <th>estado</th>\n",
       "      <th>estado_id</th>\n",
       "      <th>anomes_cadastro</th>\n",
       "      <th>data_cadastro</th>\n",
       "      <th>data_ultimo_login</th>\n",
       "      <th>data_aniversario_pf</th>\n",
       "      <th>cadastro_com_cidade</th>\n",
       "      <th>tipo</th>\n",
       "      <th>id_pedido</th>\n",
       "      <th>id_carrinho</th>\n",
       "      <th>status</th>\n",
       "      <th>desc_status</th>\n",
       "      <th>id_distribuidor</th>\n",
       "      <th>id_sku</th>\n",
       "      <th>id_produto</th>\n",
       "      <th>produto</th>\n",
       "      <th>anomes_carrinho</th>\n",
       "      <th>data_carrinho</th>\n",
       "      <th>anomes_status_pedido</th>\n",
       "      <th>data_status_pedido</th>\n",
       "      <th>quantidade</th>\n",
       "      <th>volumepedidos</th>\n",
       "      <th>volumecompras</th>\n",
       "      <th>volumependente</th>\n",
       "      <th>volumecanceladorecusado</th>\n",
       "      <th>meio_pagamento</th>\n",
       "    </tr>\n",
       "  </thead>\n",
       "  <tbody>\n",
       "    <tr>\n",
       "      <th>0</th>\n",
       "      <td>1642498</td>\n",
       "      <td>8491</td>\n",
       "      <td>13152-246</td>\n",
       "      <td>COSMÓPOLIS</td>\n",
       "      <td>4849.0</td>\n",
       "      <td>SÃO PAULO</td>\n",
       "      <td>26.0</td>\n",
       "      <td>201910</td>\n",
       "      <td>31-10-2019</td>\n",
       "      <td>31-10-2019</td>\n",
       "      <td>NaN</td>\n",
       "      <td>1</td>\n",
       "      <td>PJ</td>\n",
       "      <td>346752</td>\n",
       "      <td>1684898</td>\n",
       "      <td>0</td>\n",
       "      <td>Carrinho Abandonado</td>\n",
       "      <td>37014</td>\n",
       "      <td>44441.0</td>\n",
       "      <td>9128554.0</td>\n",
       "      <td>BOLINHO DE QUEIJO COM MASSA DE BATATA CONGELAD...</td>\n",
       "      <td>201910</td>\n",
       "      <td>2019-10-31 00:49:17.966112+00</td>\n",
       "      <td>NaN</td>\n",
       "      <td>NaN</td>\n",
       "      <td>10.0</td>\n",
       "      <td>79.6000</td>\n",
       "      <td>NaN</td>\n",
       "      <td>NaN</td>\n",
       "      <td>NaN</td>\n",
       "      <td>CARTÃO DE CRÉDITO À VISTA (ROTATIVO)</td>\n",
       "    </tr>\n",
       "    <tr>\n",
       "      <th>1</th>\n",
       "      <td>1642498</td>\n",
       "      <td>8491</td>\n",
       "      <td>13152-246</td>\n",
       "      <td>COSMÓPOLIS</td>\n",
       "      <td>4849.0</td>\n",
       "      <td>SÃO PAULO</td>\n",
       "      <td>26.0</td>\n",
       "      <td>201910</td>\n",
       "      <td>31-10-2019</td>\n",
       "      <td>31-10-2019</td>\n",
       "      <td>NaN</td>\n",
       "      <td>1</td>\n",
       "      <td>PJ</td>\n",
       "      <td>346751</td>\n",
       "      <td>1684898</td>\n",
       "      <td>0</td>\n",
       "      <td>Carrinho Abandonado</td>\n",
       "      <td>703</td>\n",
       "      <td>23895.0</td>\n",
       "      <td>5510121.0</td>\n",
       "      <td>MANDIOCA TOLETE CONGELADA PACOTE POR KG - PRON...</td>\n",
       "      <td>201910</td>\n",
       "      <td>2019-10-31 00:49:17.966112+00</td>\n",
       "      <td>NaN</td>\n",
       "      <td>NaN</td>\n",
       "      <td>12.0</td>\n",
       "      <td>102.9996</td>\n",
       "      <td>NaN</td>\n",
       "      <td>NaN</td>\n",
       "      <td>NaN</td>\n",
       "      <td>PAGAMENTO NA ENTREGA DA MERCADORIA</td>\n",
       "    </tr>\n",
       "  </tbody>\n",
       "</table>\n",
       "</div>"
      ],
      "text/plain": [
       "   user_id  consumidor_id        cep      cidade  cidade_id     estado  estado_id  anomes_cadastro data_cadastro data_ultimo_login data_aniversario_pf  cadastro_com_cidade tipo  id_pedido  id_carrinho  status          desc_status  id_distribuidor   id_sku  id_produto                                            produto  anomes_carrinho                  data_carrinho  anomes_status_pedido data_status_pedido  quantidade  volumepedidos  volumecompras  volumependente  volumecanceladorecusado                        meio_pagamento\n",
       "0  1642498           8491  13152-246  COSMÓPOLIS     4849.0  SÃO PAULO       26.0           201910    31-10-2019        31-10-2019                 NaN                    1   PJ     346752      1684898       0  Carrinho Abandonado            37014  44441.0   9128554.0  BOLINHO DE QUEIJO COM MASSA DE BATATA CONGELAD...           201910  2019-10-31 00:49:17.966112+00                   NaN                NaN        10.0        79.6000            NaN             NaN                      NaN  CARTÃO DE CRÉDITO À VISTA (ROTATIVO)\n",
       "1  1642498           8491  13152-246  COSMÓPOLIS     4849.0  SÃO PAULO       26.0           201910    31-10-2019        31-10-2019                 NaN                    1   PJ     346751      1684898       0  Carrinho Abandonado              703  23895.0   5510121.0  MANDIOCA TOLETE CONGELADA PACOTE POR KG - PRON...           201910  2019-10-31 00:49:17.966112+00                   NaN                NaN        12.0       102.9996            NaN             NaN                      NaN    PAGAMENTO NA ENTREGA DA MERCADORIA"
      ]
     },
     "execution_count": 23,
     "metadata": {},
     "output_type": "execute_result"
    }
   ],
   "source": [
    "df_compras_consu.head(2)"
   ]
  },
  {
   "cell_type": "code",
   "execution_count": 29,
   "metadata": {
    "ExecuteTime": {
     "end_time": "2019-11-13T20:51:31.907850Z",
     "start_time": "2019-11-13T20:51:31.842027Z"
    }
   },
   "outputs": [
    {
     "data": {
      "text/plain": [
       "False    267551\n",
       "Name: tipo, dtype: int64"
      ]
     },
     "execution_count": 29,
     "metadata": {},
     "output_type": "execute_result"
    }
   ],
   "source": [
    "# Dropando os valores nulos de tipo\n",
    "df_compras_consu[\"tipo\"].dropna(inplace=True)\n",
    "df_compras_consu[\"tipo\"].isnull().value_counts()"
   ]
  },
  {
   "cell_type": "code",
   "execution_count": 32,
   "metadata": {
    "ExecuteTime": {
     "end_time": "2019-11-13T20:53:18.123769Z",
     "start_time": "2019-11-13T20:53:17.989125Z"
    }
   },
   "outputs": [
    {
     "data": {
      "text/plain": [
       "26.0    266344\n",
       "Name: estado_id, dtype: int64"
      ]
     },
     "execution_count": 32,
     "metadata": {},
     "output_type": "execute_result"
    }
   ],
   "source": [
    "# Deixando apenas os carrinhos de SP\n",
    "df_compras_consu = df_compras_consu[df_compras_consu['estado_id'] == 26.0]\n",
    "df_compras_consu[\"estado_id\"].value_counts()"
   ]
  },
  {
   "cell_type": "code",
   "execution_count": 33,
   "metadata": {
    "ExecuteTime": {
     "end_time": "2019-11-13T20:53:38.294244Z",
     "start_time": "2019-11-13T20:53:38.253354Z"
    }
   },
   "outputs": [
    {
     "data": {
      "text/html": [
       "<div>\n",
       "<style scoped>\n",
       "    .dataframe tbody tr th:only-of-type {\n",
       "        vertical-align: middle;\n",
       "    }\n",
       "\n",
       "    .dataframe tbody tr th {\n",
       "        vertical-align: top;\n",
       "    }\n",
       "\n",
       "    .dataframe thead th {\n",
       "        text-align: right;\n",
       "    }\n",
       "</style>\n",
       "<table border=\"1\" class=\"dataframe\">\n",
       "  <thead>\n",
       "    <tr style=\"text-align: right;\">\n",
       "      <th></th>\n",
       "      <th>user_id</th>\n",
       "      <th>consumidor_id</th>\n",
       "      <th>cep</th>\n",
       "      <th>cidade</th>\n",
       "      <th>cidade_id</th>\n",
       "      <th>estado</th>\n",
       "      <th>estado_id</th>\n",
       "      <th>anomes_cadastro</th>\n",
       "      <th>data_cadastro</th>\n",
       "      <th>data_ultimo_login</th>\n",
       "      <th>data_aniversario_pf</th>\n",
       "      <th>cadastro_com_cidade</th>\n",
       "      <th>tipo</th>\n",
       "      <th>id_pedido</th>\n",
       "      <th>id_carrinho</th>\n",
       "      <th>status</th>\n",
       "      <th>desc_status</th>\n",
       "      <th>id_distribuidor</th>\n",
       "      <th>id_sku</th>\n",
       "      <th>id_produto</th>\n",
       "      <th>produto</th>\n",
       "      <th>anomes_carrinho</th>\n",
       "      <th>data_carrinho</th>\n",
       "      <th>anomes_status_pedido</th>\n",
       "      <th>data_status_pedido</th>\n",
       "      <th>quantidade</th>\n",
       "      <th>volumepedidos</th>\n",
       "      <th>volumecompras</th>\n",
       "      <th>volumependente</th>\n",
       "      <th>volumecanceladorecusado</th>\n",
       "      <th>meio_pagamento</th>\n",
       "    </tr>\n",
       "  </thead>\n",
       "  <tbody>\n",
       "    <tr>\n",
       "      <th>0</th>\n",
       "      <td>1642498</td>\n",
       "      <td>8491</td>\n",
       "      <td>13152-246</td>\n",
       "      <td>COSMÓPOLIS</td>\n",
       "      <td>4849.0</td>\n",
       "      <td>SÃO PAULO</td>\n",
       "      <td>26.0</td>\n",
       "      <td>201910</td>\n",
       "      <td>31-10-2019</td>\n",
       "      <td>31-10-2019</td>\n",
       "      <td>NaN</td>\n",
       "      <td>1</td>\n",
       "      <td>PJ</td>\n",
       "      <td>346752</td>\n",
       "      <td>1684898</td>\n",
       "      <td>0</td>\n",
       "      <td>Carrinho Abandonado</td>\n",
       "      <td>37014</td>\n",
       "      <td>44441.0</td>\n",
       "      <td>9128554.0</td>\n",
       "      <td>BOLINHO DE QUEIJO COM MASSA DE BATATA CONGELAD...</td>\n",
       "      <td>201910</td>\n",
       "      <td>2019-10-31 00:49:17.966112+00</td>\n",
       "      <td>NaN</td>\n",
       "      <td>NaN</td>\n",
       "      <td>10.0</td>\n",
       "      <td>79.6000</td>\n",
       "      <td>NaN</td>\n",
       "      <td>NaN</td>\n",
       "      <td>NaN</td>\n",
       "      <td>CARTÃO DE CRÉDITO À VISTA (ROTATIVO)</td>\n",
       "    </tr>\n",
       "    <tr>\n",
       "      <th>1</th>\n",
       "      <td>1642498</td>\n",
       "      <td>8491</td>\n",
       "      <td>13152-246</td>\n",
       "      <td>COSMÓPOLIS</td>\n",
       "      <td>4849.0</td>\n",
       "      <td>SÃO PAULO</td>\n",
       "      <td>26.0</td>\n",
       "      <td>201910</td>\n",
       "      <td>31-10-2019</td>\n",
       "      <td>31-10-2019</td>\n",
       "      <td>NaN</td>\n",
       "      <td>1</td>\n",
       "      <td>PJ</td>\n",
       "      <td>346751</td>\n",
       "      <td>1684898</td>\n",
       "      <td>0</td>\n",
       "      <td>Carrinho Abandonado</td>\n",
       "      <td>703</td>\n",
       "      <td>23895.0</td>\n",
       "      <td>5510121.0</td>\n",
       "      <td>MANDIOCA TOLETE CONGELADA PACOTE POR KG - PRON...</td>\n",
       "      <td>201910</td>\n",
       "      <td>2019-10-31 00:49:17.966112+00</td>\n",
       "      <td>NaN</td>\n",
       "      <td>NaN</td>\n",
       "      <td>12.0</td>\n",
       "      <td>102.9996</td>\n",
       "      <td>NaN</td>\n",
       "      <td>NaN</td>\n",
       "      <td>NaN</td>\n",
       "      <td>PAGAMENTO NA ENTREGA DA MERCADORIA</td>\n",
       "    </tr>\n",
       "  </tbody>\n",
       "</table>\n",
       "</div>"
      ],
      "text/plain": [
       "   user_id  consumidor_id        cep      cidade  cidade_id     estado  estado_id  anomes_cadastro data_cadastro data_ultimo_login data_aniversario_pf  cadastro_com_cidade tipo  id_pedido  id_carrinho  status          desc_status  id_distribuidor   id_sku  id_produto                                            produto  anomes_carrinho                  data_carrinho  anomes_status_pedido data_status_pedido  quantidade  volumepedidos  volumecompras  volumependente  volumecanceladorecusado                        meio_pagamento\n",
       "0  1642498           8491  13152-246  COSMÓPOLIS     4849.0  SÃO PAULO       26.0           201910    31-10-2019        31-10-2019                 NaN                    1   PJ     346752      1684898       0  Carrinho Abandonado            37014  44441.0   9128554.0  BOLINHO DE QUEIJO COM MASSA DE BATATA CONGELAD...           201910  2019-10-31 00:49:17.966112+00                   NaN                NaN        10.0        79.6000            NaN             NaN                      NaN  CARTÃO DE CRÉDITO À VISTA (ROTATIVO)\n",
       "1  1642498           8491  13152-246  COSMÓPOLIS     4849.0  SÃO PAULO       26.0           201910    31-10-2019        31-10-2019                 NaN                    1   PJ     346751      1684898       0  Carrinho Abandonado              703  23895.0   5510121.0  MANDIOCA TOLETE CONGELADA PACOTE POR KG - PRON...           201910  2019-10-31 00:49:17.966112+00                   NaN                NaN        12.0       102.9996            NaN             NaN                      NaN    PAGAMENTO NA ENTREGA DA MERCADORIA"
      ]
     },
     "execution_count": 33,
     "metadata": {},
     "output_type": "execute_result"
    }
   ],
   "source": [
    "df_compras_consu.head(2)"
   ]
  },
  {
   "cell_type": "markdown",
   "metadata": {},
   "source": [
    "Por enquanto é isso que temos, vamos trabalhar um pouco nessa tabela, primeiro vamos alterar os status por um inteiro de 0 a 3 que transfere cada caso, portando, vamos seguir a seguinte regra:\n",
    "* \"Carrinho Abandonado\": 0\n",
    "* \"Aprovado\":1\n",
    "* \"Cancelado/Recusado\": 2\n",
    "* \"Pendente\": 3\n",
    "* Caso tenha um caso fora desses: 99"
   ]
  },
  {
   "cell_type": "code",
   "execution_count": 42,
   "metadata": {
    "ExecuteTime": {
     "end_time": "2019-11-13T21:01:58.679211Z",
     "start_time": "2019-11-13T21:01:58.437687Z"
    }
   },
   "outputs": [
    {
     "data": {
      "text/plain": [
       "0    214153\n",
       "1     31792\n",
       "2     19628\n",
       "3       771\n",
       "Name: status_final_target, dtype: int64"
      ]
     },
     "execution_count": 42,
     "metadata": {},
     "output_type": "execute_result"
    }
   ],
   "source": [
    "status_final = []\n",
    "for linha in df_compras_consu['desc_status']:\n",
    "    if linha == \"Carrinho Abandonado\":\n",
    "        status_final.append(0)\n",
    "    elif linha == \"Aprovado\":\n",
    "        status_final.append(1)\n",
    "    elif linha == \"Cancelado/Recusado\":\n",
    "        status_final.append(2)\n",
    "    elif linha == \"Pendente\":\n",
    "        status_final.append(3)\n",
    "    else:\n",
    "        status_final.append(99)\n",
    "df_compras_consu['status_final_target'] = status_final\n",
    "df_compras_consu['status_final_target'].value_counts()"
   ]
  },
  {
   "cell_type": "markdown",
   "metadata": {},
   "source": [
    "Com isso conseguimos ver a diferença de amostras que temos de cada status, no nosso caso, o target para nosso recomendador serão os carrinhos abandonados e pendentes.\n",
    "* Será que ambos os status tem características semelhantes?\n",
    "* Podemos considerar o Pendente como Abandonado?"
   ]
  },
  {
   "cell_type": "code",
   "execution_count": 41,
   "metadata": {
    "ExecuteTime": {
     "end_time": "2019-11-13T21:00:18.050915Z",
     "start_time": "2019-11-13T21:00:18.041907Z"
    }
   },
   "outputs": [
    {
     "data": {
      "text/plain": [
       "Index(['user_id', 'consumidor_id', 'cep', 'cidade', 'cidade_id', 'estado', 'estado_id', 'anomes_cadastro', 'data_cadastro', 'data_ultimo_login', 'data_aniversario_pf', 'cadastro_com_cidade', 'tipo', 'id_pedido', 'id_carrinho', 'status', 'desc_status', 'id_distribuidor', 'id_sku', 'id_produto', 'produto', 'anomes_carrinho', 'data_carrinho', 'anomes_status_pedido', 'data_status_pedido', 'quantidade', 'volumepedidos', 'volumecompras', 'volumependente', 'volumecanceladorecusado', 'meio_pagamento', 'status_final_target'], dtype='object')"
      ]
     },
     "execution_count": 41,
     "metadata": {},
     "output_type": "execute_result"
    }
   ],
   "source": [
    "df_compras_consu.columns"
   ]
  },
  {
   "cell_type": "code",
   "execution_count": null,
   "metadata": {},
   "outputs": [],
   "source": []
  },
  {
   "cell_type": "code",
   "execution_count": null,
   "metadata": {},
   "outputs": [],
   "source": []
  },
  {
   "cell_type": "markdown",
   "metadata": {},
   "source": [
    "Nosso DataFrame ainda tem muita informação desnecessária, vamos ter que limpas um pouco mais e avaliar se teremos valores faltando."
   ]
  },
  {
   "cell_type": "code",
   "execution_count": 50,
   "metadata": {
    "ExecuteTime": {
     "end_time": "2019-11-13T21:15:46.131308Z",
     "start_time": "2019-11-13T21:15:46.100390Z"
    }
   },
   "outputs": [],
   "source": [
    "### Decidi manter o id_sku e volumepedidos pois não sei o que significam ainda.\n",
    "df_limpo = df_compras_consu[['user_id', 'cidade_id', 'tipo', 'id_carrinho', \n",
    "                            'id_sku','produto', 'id_produto', 'quantidade', 'volumepedidos']]"
   ]
  },
  {
   "cell_type": "code",
   "execution_count": 51,
   "metadata": {
    "ExecuteTime": {
     "end_time": "2019-11-13T21:15:47.028745Z",
     "start_time": "2019-11-13T21:15:46.906070Z"
    }
   },
   "outputs": [
    {
     "name": "stdout",
     "output_type": "stream",
     "text": [
      "<class 'pandas.core.frame.DataFrame'>\n",
      "Int64Index: 266344 entries, 0 to 268620\n",
      "Data columns (total 9 columns):\n",
      "user_id          266344 non-null int64\n",
      "cidade_id        266344 non-null float64\n",
      "tipo             266344 non-null object\n",
      "id_carrinho      266344 non-null int64\n",
      "id_sku           200433 non-null float64\n",
      "produto          266344 non-null object\n",
      "id_produto       239062 non-null float64\n",
      "quantidade       266185 non-null float64\n",
      "volumepedidos    266066 non-null float64\n",
      "dtypes: float64(5), int64(2), object(2)\n",
      "memory usage: 20.3+ MB\n"
     ]
    }
   ],
   "source": [
    "# Ainda temos muitos valores nulos, vamos ter que cruzar isso com a tabela de produtos para poder resolver...\n",
    "df_limpo.info()"
   ]
  },
  {
   "cell_type": "code",
   "execution_count": 52,
   "metadata": {
    "ExecuteTime": {
     "end_time": "2019-11-13T21:17:40.488411Z",
     "start_time": "2019-11-13T21:17:40.463479Z"
    }
   },
   "outputs": [
    {
     "data": {
      "text/html": [
       "<div>\n",
       "<style scoped>\n",
       "    .dataframe tbody tr th:only-of-type {\n",
       "        vertical-align: middle;\n",
       "    }\n",
       "\n",
       "    .dataframe tbody tr th {\n",
       "        vertical-align: top;\n",
       "    }\n",
       "\n",
       "    .dataframe thead th {\n",
       "        text-align: right;\n",
       "    }\n",
       "</style>\n",
       "<table border=\"1\" class=\"dataframe\">\n",
       "  <thead>\n",
       "    <tr style=\"text-align: right;\">\n",
       "      <th></th>\n",
       "      <th>user_id</th>\n",
       "      <th>cidade_id</th>\n",
       "      <th>tipo</th>\n",
       "      <th>id_carrinho</th>\n",
       "      <th>id_sku</th>\n",
       "      <th>produto</th>\n",
       "      <th>id_produto</th>\n",
       "      <th>quantidade</th>\n",
       "      <th>volumepedidos</th>\n",
       "    </tr>\n",
       "  </thead>\n",
       "  <tbody>\n",
       "    <tr>\n",
       "      <th>0</th>\n",
       "      <td>1642498</td>\n",
       "      <td>4849.0</td>\n",
       "      <td>PJ</td>\n",
       "      <td>1684898</td>\n",
       "      <td>44441.0</td>\n",
       "      <td>BOLINHO DE QUEIJO COM MASSA DE BATATA CONGELAD...</td>\n",
       "      <td>9128554.0</td>\n",
       "      <td>10.0</td>\n",
       "      <td>79.6000</td>\n",
       "    </tr>\n",
       "    <tr>\n",
       "      <th>1</th>\n",
       "      <td>1642498</td>\n",
       "      <td>4849.0</td>\n",
       "      <td>PJ</td>\n",
       "      <td>1684898</td>\n",
       "      <td>23895.0</td>\n",
       "      <td>MANDIOCA TOLETE CONGELADA PACOTE POR KG - PRON...</td>\n",
       "      <td>5510121.0</td>\n",
       "      <td>12.0</td>\n",
       "      <td>102.9996</td>\n",
       "    </tr>\n",
       "    <tr>\n",
       "      <th>2</th>\n",
       "      <td>1642498</td>\n",
       "      <td>4849.0</td>\n",
       "      <td>PJ</td>\n",
       "      <td>1684898</td>\n",
       "      <td>4440.0</td>\n",
       "      <td>BATATA PALITO TRADICIONAL 10X10MM CONGELADA PO...</td>\n",
       "      <td>539148.0</td>\n",
       "      <td>15.0</td>\n",
       "      <td>105.7200</td>\n",
       "    </tr>\n",
       "    <tr>\n",
       "      <th>3</th>\n",
       "      <td>1642498</td>\n",
       "      <td>4849.0</td>\n",
       "      <td>PJ</td>\n",
       "      <td>1684898</td>\n",
       "      <td>44439.0</td>\n",
       "      <td>BOLINHO DE CARNE COM MASSA DE BATATA CONGELADO...</td>\n",
       "      <td>9128553.0</td>\n",
       "      <td>10.0</td>\n",
       "      <td>83.7000</td>\n",
       "    </tr>\n",
       "    <tr>\n",
       "      <th>4</th>\n",
       "      <td>1642498</td>\n",
       "      <td>4849.0</td>\n",
       "      <td>PJ</td>\n",
       "      <td>1684898</td>\n",
       "      <td>44457.0</td>\n",
       "      <td>KIBE DE BATATA COM CATUPIRY CONGELADO 25G  400...</td>\n",
       "      <td>9128565.0</td>\n",
       "      <td>10.0</td>\n",
       "      <td>84.2000</td>\n",
       "    </tr>\n",
       "  </tbody>\n",
       "</table>\n",
       "</div>"
      ],
      "text/plain": [
       "   user_id  cidade_id tipo  id_carrinho   id_sku                                            produto  id_produto  quantidade  volumepedidos\n",
       "0  1642498     4849.0   PJ      1684898  44441.0  BOLINHO DE QUEIJO COM MASSA DE BATATA CONGELAD...   9128554.0        10.0        79.6000\n",
       "1  1642498     4849.0   PJ      1684898  23895.0  MANDIOCA TOLETE CONGELADA PACOTE POR KG - PRON...   5510121.0        12.0       102.9996\n",
       "2  1642498     4849.0   PJ      1684898   4440.0  BATATA PALITO TRADICIONAL 10X10MM CONGELADA PO...    539148.0        15.0       105.7200\n",
       "3  1642498     4849.0   PJ      1684898  44439.0  BOLINHO DE CARNE COM MASSA DE BATATA CONGELADO...   9128553.0        10.0        83.7000\n",
       "4  1642498     4849.0   PJ      1684898  44457.0  KIBE DE BATATA COM CATUPIRY CONGELADO 25G  400...   9128565.0        10.0        84.2000"
      ]
     },
     "execution_count": 52,
     "metadata": {},
     "output_type": "execute_result"
    }
   ],
   "source": [
    "# Vamos dar uma olhadinha em como ficou;\n",
    "# Não gostei do index generico pq temos informações repetidas em algumas colunas...\n",
    "df_limpo.head()"
   ]
  },
  {
   "cell_type": "code",
   "execution_count": 53,
   "metadata": {
    "ExecuteTime": {
     "end_time": "2019-11-13T21:21:07.597117Z",
     "start_time": "2019-11-13T21:21:07.567202Z"
    }
   },
   "outputs": [],
   "source": [
    "# Vamos transformar o id_carrinho em index, ele ainda não será único, mas assim que fizermos a matriz de produtos, será\n",
    "df_limpo = df_limpo.set_index('id_carrinho')"
   ]
  },
  {
   "cell_type": "code",
   "execution_count": 54,
   "metadata": {
    "ExecuteTime": {
     "end_time": "2019-11-13T21:21:15.317208Z",
     "start_time": "2019-11-13T21:21:15.287289Z"
    }
   },
   "outputs": [
    {
     "data": {
      "text/html": [
       "<div>\n",
       "<style scoped>\n",
       "    .dataframe tbody tr th:only-of-type {\n",
       "        vertical-align: middle;\n",
       "    }\n",
       "\n",
       "    .dataframe tbody tr th {\n",
       "        vertical-align: top;\n",
       "    }\n",
       "\n",
       "    .dataframe thead th {\n",
       "        text-align: right;\n",
       "    }\n",
       "</style>\n",
       "<table border=\"1\" class=\"dataframe\">\n",
       "  <thead>\n",
       "    <tr style=\"text-align: right;\">\n",
       "      <th></th>\n",
       "      <th>user_id</th>\n",
       "      <th>cidade_id</th>\n",
       "      <th>tipo</th>\n",
       "      <th>id_sku</th>\n",
       "      <th>produto</th>\n",
       "      <th>id_produto</th>\n",
       "      <th>quantidade</th>\n",
       "      <th>volumepedidos</th>\n",
       "    </tr>\n",
       "    <tr>\n",
       "      <th>id_carrinho</th>\n",
       "      <th></th>\n",
       "      <th></th>\n",
       "      <th></th>\n",
       "      <th></th>\n",
       "      <th></th>\n",
       "      <th></th>\n",
       "      <th></th>\n",
       "      <th></th>\n",
       "    </tr>\n",
       "  </thead>\n",
       "  <tbody>\n",
       "    <tr>\n",
       "      <th>1684898</th>\n",
       "      <td>1642498</td>\n",
       "      <td>4849.0</td>\n",
       "      <td>PJ</td>\n",
       "      <td>44441.0</td>\n",
       "      <td>BOLINHO DE QUEIJO COM MASSA DE BATATA CONGELAD...</td>\n",
       "      <td>9128554.0</td>\n",
       "      <td>10.0</td>\n",
       "      <td>79.6000</td>\n",
       "    </tr>\n",
       "    <tr>\n",
       "      <th>1684898</th>\n",
       "      <td>1642498</td>\n",
       "      <td>4849.0</td>\n",
       "      <td>PJ</td>\n",
       "      <td>23895.0</td>\n",
       "      <td>MANDIOCA TOLETE CONGELADA PACOTE POR KG - PRON...</td>\n",
       "      <td>5510121.0</td>\n",
       "      <td>12.0</td>\n",
       "      <td>102.9996</td>\n",
       "    </tr>\n",
       "    <tr>\n",
       "      <th>1684898</th>\n",
       "      <td>1642498</td>\n",
       "      <td>4849.0</td>\n",
       "      <td>PJ</td>\n",
       "      <td>4440.0</td>\n",
       "      <td>BATATA PALITO TRADICIONAL 10X10MM CONGELADA PO...</td>\n",
       "      <td>539148.0</td>\n",
       "      <td>15.0</td>\n",
       "      <td>105.7200</td>\n",
       "    </tr>\n",
       "    <tr>\n",
       "      <th>1684898</th>\n",
       "      <td>1642498</td>\n",
       "      <td>4849.0</td>\n",
       "      <td>PJ</td>\n",
       "      <td>44439.0</td>\n",
       "      <td>BOLINHO DE CARNE COM MASSA DE BATATA CONGELADO...</td>\n",
       "      <td>9128553.0</td>\n",
       "      <td>10.0</td>\n",
       "      <td>83.7000</td>\n",
       "    </tr>\n",
       "    <tr>\n",
       "      <th>1684898</th>\n",
       "      <td>1642498</td>\n",
       "      <td>4849.0</td>\n",
       "      <td>PJ</td>\n",
       "      <td>44457.0</td>\n",
       "      <td>KIBE DE BATATA COM CATUPIRY CONGELADO 25G  400...</td>\n",
       "      <td>9128565.0</td>\n",
       "      <td>10.0</td>\n",
       "      <td>84.2000</td>\n",
       "    </tr>\n",
       "  </tbody>\n",
       "</table>\n",
       "</div>"
      ],
      "text/plain": [
       "             user_id  cidade_id tipo   id_sku                                            produto  id_produto  quantidade  volumepedidos\n",
       "id_carrinho                                                                                                                            \n",
       "1684898      1642498     4849.0   PJ  44441.0  BOLINHO DE QUEIJO COM MASSA DE BATATA CONGELAD...   9128554.0        10.0        79.6000\n",
       "1684898      1642498     4849.0   PJ  23895.0  MANDIOCA TOLETE CONGELADA PACOTE POR KG - PRON...   5510121.0        12.0       102.9996\n",
       "1684898      1642498     4849.0   PJ   4440.0  BATATA PALITO TRADICIONAL 10X10MM CONGELADA PO...    539148.0        15.0       105.7200\n",
       "1684898      1642498     4849.0   PJ  44439.0  BOLINHO DE CARNE COM MASSA DE BATATA CONGELADO...   9128553.0        10.0        83.7000\n",
       "1684898      1642498     4849.0   PJ  44457.0  KIBE DE BATATA COM CATUPIRY CONGELADO 25G  400...   9128565.0        10.0        84.2000"
      ]
     },
     "execution_count": 54,
     "metadata": {},
     "output_type": "execute_result"
    }
   ],
   "source": [
    "df_limpo.head()"
   ]
  },
  {
   "cell_type": "markdown",
   "metadata": {},
   "source": [
    "Próximos passos:\n",
    "* Pegar os IDs dos produtos que estão faltando cruzando com a tabela de produtos.\n",
    "* Pegar os IDs de SKU faltando com base na tabela de Sku x Produtos"
   ]
  },
  {
   "cell_type": "code",
   "execution_count": null,
   "metadata": {},
   "outputs": [],
   "source": []
  }
 ],
 "metadata": {
  "kernelspec": {
   "display_name": "Python 3",
   "language": "python",
   "name": "python3"
  },
  "language_info": {
   "codemirror_mode": {
    "name": "ipython",
    "version": 3
   },
   "file_extension": ".py",
   "mimetype": "text/x-python",
   "name": "python",
   "nbconvert_exporter": "python",
   "pygments_lexer": "ipython3",
   "version": "3.7.3"
  },
  "toc": {
   "base_numbering": 1,
   "nav_menu": {},
   "number_sections": true,
   "sideBar": true,
   "skip_h1_title": false,
   "title_cell": "Table of Contents",
   "title_sidebar": "Contents",
   "toc_cell": false,
   "toc_position": {},
   "toc_section_display": true,
   "toc_window_display": false
  }
 },
 "nbformat": 4,
 "nbformat_minor": 2
}
