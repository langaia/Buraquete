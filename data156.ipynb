{
 "cells": [
  {
   "cell_type": "code",
   "execution_count": 1,
   "metadata": {},
   "outputs": [],
   "source": [
    "#Importar bibliotecas\n",
    "\n",
    "import pandas as pd\n",
    "from os import listdir\n",
    "import glob\n",
    "import functools"
   ]
  },
  {
   "cell_type": "code",
   "execution_count": 2,
   "metadata": {},
   "outputs": [],
   "source": [
    "import pandas as pd\n",
    "import glob\n",
    "import functools\n",
    "\n",
    "df = pd.concat(map(functools.partial(pd.read_csv, sep=';', encoding='ISO-8859-1'), \n",
    "                    glob.glob(\"../Bases/156/*.csv\")))"
   ]
  },
  {
   "cell_type": "code",
   "execution_count": 4,
   "metadata": {},
   "outputs": [],
   "source": [
    "#import warnings\n",
    "#warnings.filterwarnings(\"ignore\")\n",
    "#df = pd.read_csv('../Bases/156/sp156-1sem-2019.csv', sep=';', encoding='ISO-8859–1')"
   ]
  },
  {
   "cell_type": "code",
   "execution_count": 3,
   "metadata": {},
   "outputs": [],
   "source": [
    "df = df[df.Assunto == 'Buraco e pavimentação']"
   ]
  },
  {
   "cell_type": "code",
   "execution_count": 5,
   "metadata": {},
   "outputs": [
    {
     "name": "stdout",
     "output_type": "stream",
     "text": [
      "<class 'pandas.core.frame.DataFrame'>\n",
      "Int64Index: 519400 entries, 22 to 408206\n",
      "Data columns (total 17 columns):\n",
      "Data de abertura         519400 non-null object\n",
      "Canal                    519400 non-null object\n",
      "Tema                     519400 non-null object\n",
      "Assunto                  519400 non-null object\n",
      "Serviço                  519400 non-null object\n",
      "Logradouro               503936 non-null object\n",
      "Número                   503872 non-null object\n",
      "CEP                      503236 non-null object\n",
      "Subprefeitura            496673 non-null object\n",
      "Distrito                 497144 non-null object\n",
      "Setor                    404021 non-null object\n",
      "Quadra                   404021 non-null object\n",
      "Latitude                 519297 non-null object\n",
      "Longitude                519297 non-null object\n",
      "Data do parecer          519031 non-null object\n",
      "Status da solicitação    519400 non-null object\n",
      "Órgão                    519400 non-null object\n",
      "dtypes: object(17)\n",
      "memory usage: 71.3+ MB\n"
     ]
    }
   ],
   "source": [
    "df.info()"
   ]
  },
  {
   "cell_type": "code",
   "execution_count": 6,
   "metadata": {},
   "outputs": [],
   "source": [
    "df.to_csv('Fontes de Dados/buracos.csv.gzip', compression='gzip')"
   ]
  },
  {
   "cell_type": "code",
   "execution_count": null,
   "metadata": {},
   "outputs": [],
   "source": []
  }
 ],
 "metadata": {
  "kernelspec": {
   "display_name": "Python 3",
   "language": "python",
   "name": "python3"
  },
  "language_info": {
   "codemirror_mode": {
    "name": "ipython",
    "version": 3
   },
   "file_extension": ".py",
   "mimetype": "text/x-python",
   "name": "python",
   "nbconvert_exporter": "python",
   "pygments_lexer": "ipython3",
   "version": "3.7.4"
  }
 },
 "nbformat": 4,
 "nbformat_minor": 4
}
