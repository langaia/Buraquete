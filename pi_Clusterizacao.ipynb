{
 "cells": [
  {
   "cell_type": "markdown",
   "metadata": {},
   "source": [
    "__<font size=5><center>Projeto Integrador - Sistema de Clusterização de Clientes para CRM</center></font>__\n",
    "\n",
    "__Author__: Rui Ferreira Póvoa\n",
    "\n",
    "__School__: Digital House Brazil\n",
    "\n",
    "__Class__: Data Science\n",
    "\n",
    "__Due Date__:   29/11/2019"
   ]
  },
  {
   "cell_type": "markdown",
   "metadata": {},
   "source": [
    "<a name=\"1\"></a>\n",
    "# 1. Data Loading\n",
    "\n",
    "<a name=\"1.1\"></a>\n",
    "## 1.1. Importação de Bibliotecas"
   ]
  },
  {
   "cell_type": "code",
   "execution_count": 1,
   "metadata": {},
   "outputs": [],
   "source": [
    "#bibliotecas para análise de dados:\n",
    "import pandas as pd                                        # tables and data manipulations\n",
    "import numpy as np                                         # vectors and matrices"
   ]
  },
  {
   "cell_type": "code",
   "execution_count": 2,
   "metadata": {},
   "outputs": [],
   "source": [
    "#bibliotecas para ler o arquivo e realizar análises de tipo de csv\n",
    "import csv\n",
    "import itertools                                           # funções úteis"
   ]
  },
  {
   "cell_type": "code",
   "execution_count": 3,
   "metadata": {},
   "outputs": [],
   "source": [
    "#import of heap algoryth for sorting\n",
    "import heapq"
   ]
  },
  {
   "cell_type": "code",
   "execution_count": 4,
   "metadata": {},
   "outputs": [],
   "source": [
    "#biblioteca de tempo\n",
    "from datetime import date, datetime, timedelta\n",
    "\n",
    "today_date = date.today()"
   ]
  },
  {
   "cell_type": "markdown",
   "metadata": {},
   "source": [
    "## 1.2. Carregando os arquivos"
   ]
  },
  {
   "cell_type": "code",
   "execution_count": 5,
   "metadata": {},
   "outputs": [],
   "source": [
    "filepath = \"data\\Produtos.csv\""
   ]
  },
  {
   "cell_type": "code",
   "execution_count": 6,
   "metadata": {},
   "outputs": [
    {
     "name": "stdout",
     "output_type": "stream",
     "text": [
      "['id_pedido', 'id_carrinho', 'status', 'desc_status', 'id_cliente', 'id_distribuidor', 'id_sku', 'id_produto', 'produto', 'anomes_carrinho', 'data_carrinho', 'anomes_status_pedido', 'data_status_pedido', 'quantidade', 'volumepedidos', 'volumecompras', 'volumependente', 'volumecanceladorecusado', 'meio_pagamento']\n"
     ]
    }
   ],
   "source": [
    "#Trazendo o cabeçalho:\n",
    "with open(filepath, 'r', encoding = 'utf8') as csvfile:\n",
    "    #head = ''.join(itertools.islice(csvfile, 1))\n",
    "    #print(head)\n",
    "    reader = csv.reader(csvfile)\n",
    "    lst_header = next(reader)\n",
    "    print(lst_header)"
   ]
  },
  {
   "cell_type": "code",
   "execution_count": 7,
   "metadata": {},
   "outputs": [
    {
     "name": "stdout",
     "output_type": "stream",
     "text": [
      "{'id_pedido': <class 'numpy.int32'>, 'id_carrinho': <class 'numpy.int32'>, 'status': <class 'numpy.int16'>, 'desc_status': 'str', 'id_cliente': <class 'numpy.int32'>, 'id_distribuidor': <class 'numpy.int32'>, 'id_sku': 'Int32', 'id_produto': 'Int32', 'produto': 'str', 'anomes_carrinho': <class 'numpy.int16'>, 'data_carrinho': 'str', 'anomes_status_pedido': 'Int32', 'data_status_pedido': 'str', 'quantidade': <class 'numpy.float32'>, 'volumepedidos': <class 'numpy.float32'>, 'volumecompras': <class 'numpy.float32'>, 'volumependente': <class 'numpy.float32'>, 'volumecanceladorecusado': <class 'numpy.float32'>, 'meio_pagamento': 'str'}\n"
     ]
    }
   ],
   "source": [
    "#preparando os dados para chamar no pandas\n",
    "#se vai incluir NaN não pode ser usado o \"int\" com i tem de ser capitalizado \"I\"\n",
    "dtype_list = [np.int32,np.int32,np.int16,'str',np.int32,\n",
    "              np.int32,'Int32','Int32','str',np.int16,\n",
    "              'str','Int32','str', np.float32,np.float32,\n",
    "              np.float32,np.float32,np.float32, 'str']\n",
    "\n",
    "dtype_dict = dict(zip(lst_header, dtype_list))\n",
    "print(dtype_dict)\n",
    "\n",
    "#passando datas\n",
    "parse_dates = ['data_carrinho', 'data_status_pedido']"
   ]
  },
  {
   "cell_type": "code",
   "execution_count": 8,
   "metadata": {},
   "outputs": [],
   "source": [
    "#deu erro a tenar chamar os resultados com os dtypes\n",
    "df = pd.read_csv(filepath,\n",
    "                 sep=',',\n",
    "                 header=0,\n",
    "                 encoding=\"utf8\",\n",
    "                 dtype = dtype_dict,\n",
    "                 parse_dates=parse_dates)"
   ]
  },
  {
   "cell_type": "code",
   "execution_count": 10,
   "metadata": {},
   "outputs": [],
   "source": [
    "filepath = \"data\\Pedidos.csv\"\n",
    "dtype_list = [np.int32,np.int32,np.int16,'str',np.int32,\n",
    "              np.int32,np.int16,'str',np.int16,'str',\n",
    "              np.int32,np.float32,np.float32,np.float32,np.float32]\n",
    "dtype_dict = dict(zip(lst_header, dtype_list))\n",
    "parse_dates = ['data_carrinho', 'data_status_pedido']\n",
    "\n",
    "df_pedidos = pd.read_csv(filepath,\n",
    "                 sep=',',\n",
    "                 header=0,\n",
    "                 encoding=\"utf8\",\n",
    "                 dtype = dtype_dict,\n",
    "                 parse_dates=parse_dates)"
   ]
  },
  {
   "cell_type": "markdown",
   "metadata": {},
   "source": [
    "# 2. Data Pre-processing\n",
    "\n",
    "## 2.1 Dimensionalidade do DataFrame"
   ]
  },
  {
   "cell_type": "code",
   "execution_count": 12,
   "metadata": {},
   "outputs": [
    {
     "data": {
      "text/plain": [
       "(298702, 19)"
      ]
     },
     "execution_count": 12,
     "metadata": {},
     "output_type": "execute_result"
    }
   ],
   "source": [
    "df.shape"
   ]
  },
  {
   "cell_type": "code",
   "execution_count": 13,
   "metadata": {},
   "outputs": [
    {
     "data": {
      "text/plain": [
       "(78817, 15)"
      ]
     },
     "execution_count": 13,
     "metadata": {},
     "output_type": "execute_result"
    }
   ],
   "source": [
    "df_pedidos.shape"
   ]
  },
  {
   "cell_type": "markdown",
   "metadata": {},
   "source": [
    "## 2.2. Visualização primária dos dados"
   ]
  },
  {
   "cell_type": "code",
   "execution_count": 14,
   "metadata": {},
   "outputs": [
    {
     "data": {
      "text/html": [
       "<div>\n",
       "<style scoped>\n",
       "    .dataframe tbody tr th:only-of-type {\n",
       "        vertical-align: middle;\n",
       "    }\n",
       "\n",
       "    .dataframe tbody tr th {\n",
       "        vertical-align: top;\n",
       "    }\n",
       "\n",
       "    .dataframe thead th {\n",
       "        text-align: right;\n",
       "    }\n",
       "</style>\n",
       "<table border=\"1\" class=\"dataframe\">\n",
       "  <thead>\n",
       "    <tr style=\"text-align: right;\">\n",
       "      <th></th>\n",
       "      <th>id_pedido</th>\n",
       "      <th>id_carrinho</th>\n",
       "      <th>status</th>\n",
       "      <th>desc_status</th>\n",
       "      <th>id_cliente</th>\n",
       "      <th>id_distribuidor</th>\n",
       "      <th>id_sku</th>\n",
       "      <th>id_produto</th>\n",
       "      <th>produto</th>\n",
       "      <th>anomes_carrinho</th>\n",
       "      <th>data_carrinho</th>\n",
       "      <th>anomes_status_pedido</th>\n",
       "      <th>data_status_pedido</th>\n",
       "      <th>quantidade</th>\n",
       "      <th>volumepedidos</th>\n",
       "      <th>volumecompras</th>\n",
       "      <th>volumependente</th>\n",
       "      <th>volumecanceladorecusado</th>\n",
       "      <th>meio_pagamento</th>\n",
       "    </tr>\n",
       "  </thead>\n",
       "  <tbody>\n",
       "    <tr>\n",
       "      <th>0</th>\n",
       "      <td>107783</td>\n",
       "      <td>71935</td>\n",
       "      <td>0</td>\n",
       "      <td>Carrinho Abandonado</td>\n",
       "      <td>30696</td>\n",
       "      <td>137</td>\n",
       "      <td>4696</td>\n",
       "      <td>16544</td>\n",
       "      <td>PAPEL TOALHA INTERFOLHA 2 DOBRAS SOFT BRANCO P...</td>\n",
       "      <td>5204</td>\n",
       "      <td>2018-12-11 12:05:40.081189+00:00</td>\n",
       "      <td>NaN</td>\n",
       "      <td>NaT</td>\n",
       "      <td>4.0</td>\n",
       "      <td>59.959999</td>\n",
       "      <td>NaN</td>\n",
       "      <td>NaN</td>\n",
       "      <td>NaN</td>\n",
       "      <td>DEPÓSITO EM CONTA ANTECIPADO</td>\n",
       "    </tr>\n",
       "    <tr>\n",
       "      <th>1</th>\n",
       "      <td>3</td>\n",
       "      <td>3</td>\n",
       "      <td>0</td>\n",
       "      <td>Carrinho Abandonado</td>\n",
       "      <td>3</td>\n",
       "      <td>15</td>\n",
       "      <td>NaN</td>\n",
       "      <td>NaN</td>\n",
       "      <td>- BALIX</td>\n",
       "      <td>4903</td>\n",
       "      <td>2015-11-11 20:28:39.699416+00:00</td>\n",
       "      <td>NaN</td>\n",
       "      <td>NaT</td>\n",
       "      <td>1.0</td>\n",
       "      <td>22.900000</td>\n",
       "      <td>NaN</td>\n",
       "      <td>NaN</td>\n",
       "      <td>NaN</td>\n",
       "      <td>DESCONTINUADO</td>\n",
       "    </tr>\n",
       "    <tr>\n",
       "      <th>2</th>\n",
       "      <td>53780</td>\n",
       "      <td>33739</td>\n",
       "      <td>0</td>\n",
       "      <td>Carrinho Abandonado</td>\n",
       "      <td>3</td>\n",
       "      <td>4258</td>\n",
       "      <td>29813</td>\n",
       "      <td>1657959</td>\n",
       "      <td>CÁPSULAS DE CAFÉ ESPRESSO FORTISSIMO PARA MÁQU...</td>\n",
       "      <td>5196</td>\n",
       "      <td>2018-04-18 15:01:30.063939+00:00</td>\n",
       "      <td>NaN</td>\n",
       "      <td>NaT</td>\n",
       "      <td>1.0</td>\n",
       "      <td>14.500000</td>\n",
       "      <td>NaN</td>\n",
       "      <td>NaN</td>\n",
       "      <td>NaN</td>\n",
       "      <td>DESCONTINUADO</td>\n",
       "    </tr>\n",
       "    <tr>\n",
       "      <th>3</th>\n",
       "      <td>53782</td>\n",
       "      <td>33737</td>\n",
       "      <td>0</td>\n",
       "      <td>Carrinho Abandonado</td>\n",
       "      <td>4583</td>\n",
       "      <td>2900</td>\n",
       "      <td>18244</td>\n",
       "      <td>637259</td>\n",
       "      <td>ESCOVA DENTAL MACIA ESSENCIAL CLEAN  UNIDADE -...</td>\n",
       "      <td>5196</td>\n",
       "      <td>2018-04-18 14:48:41.568361+00:00</td>\n",
       "      <td>NaN</td>\n",
       "      <td>NaT</td>\n",
       "      <td>1.0</td>\n",
       "      <td>1.690000</td>\n",
       "      <td>NaN</td>\n",
       "      <td>NaN</td>\n",
       "      <td>NaN</td>\n",
       "      <td>DESCONTINUADO</td>\n",
       "    </tr>\n",
       "    <tr>\n",
       "      <th>4</th>\n",
       "      <td>53773</td>\n",
       "      <td>33739</td>\n",
       "      <td>0</td>\n",
       "      <td>Carrinho Abandonado</td>\n",
       "      <td>3</td>\n",
       "      <td>1203</td>\n",
       "      <td>13021</td>\n",
       "      <td>61708</td>\n",
       "      <td>MACARRÃO ESPAGUETE (8) COM OVOS PACOTE 500G - ...</td>\n",
       "      <td>5196</td>\n",
       "      <td>2018-04-18 15:01:30.063939+00:00</td>\n",
       "      <td>NaN</td>\n",
       "      <td>NaT</td>\n",
       "      <td>24.0</td>\n",
       "      <td>45.119999</td>\n",
       "      <td>NaN</td>\n",
       "      <td>NaN</td>\n",
       "      <td>NaN</td>\n",
       "      <td>DESCONTINUADO</td>\n",
       "    </tr>\n",
       "  </tbody>\n",
       "</table>\n",
       "</div>"
      ],
      "text/plain": [
       "   id_pedido  id_carrinho  status          desc_status  id_cliente  \\\n",
       "0     107783        71935       0  Carrinho Abandonado       30696   \n",
       "1          3            3       0  Carrinho Abandonado           3   \n",
       "2      53780        33739       0  Carrinho Abandonado           3   \n",
       "3      53782        33737       0  Carrinho Abandonado        4583   \n",
       "4      53773        33739       0  Carrinho Abandonado           3   \n",
       "\n",
       "   id_distribuidor  id_sku  id_produto  \\\n",
       "0              137    4696       16544   \n",
       "1               15     NaN         NaN   \n",
       "2             4258   29813     1657959   \n",
       "3             2900   18244      637259   \n",
       "4             1203   13021       61708   \n",
       "\n",
       "                                             produto  anomes_carrinho  \\\n",
       "0  PAPEL TOALHA INTERFOLHA 2 DOBRAS SOFT BRANCO P...             5204   \n",
       "1                                            - BALIX             4903   \n",
       "2  CÁPSULAS DE CAFÉ ESPRESSO FORTISSIMO PARA MÁQU...             5196   \n",
       "3  ESCOVA DENTAL MACIA ESSENCIAL CLEAN  UNIDADE -...             5196   \n",
       "4  MACARRÃO ESPAGUETE (8) COM OVOS PACOTE 500G - ...             5196   \n",
       "\n",
       "                     data_carrinho  anomes_status_pedido data_status_pedido  \\\n",
       "0 2018-12-11 12:05:40.081189+00:00                   NaN                NaT   \n",
       "1 2015-11-11 20:28:39.699416+00:00                   NaN                NaT   \n",
       "2 2018-04-18 15:01:30.063939+00:00                   NaN                NaT   \n",
       "3 2018-04-18 14:48:41.568361+00:00                   NaN                NaT   \n",
       "4 2018-04-18 15:01:30.063939+00:00                   NaN                NaT   \n",
       "\n",
       "   quantidade  volumepedidos  volumecompras  volumependente  \\\n",
       "0         4.0      59.959999            NaN             NaN   \n",
       "1         1.0      22.900000            NaN             NaN   \n",
       "2         1.0      14.500000            NaN             NaN   \n",
       "3         1.0       1.690000            NaN             NaN   \n",
       "4        24.0      45.119999            NaN             NaN   \n",
       "\n",
       "   volumecanceladorecusado                meio_pagamento  \n",
       "0                      NaN  DEPÓSITO EM CONTA ANTECIPADO  \n",
       "1                      NaN                 DESCONTINUADO  \n",
       "2                      NaN                 DESCONTINUADO  \n",
       "3                      NaN                 DESCONTINUADO  \n",
       "4                      NaN                 DESCONTINUADO  "
      ]
     },
     "execution_count": 14,
     "metadata": {},
     "output_type": "execute_result"
    }
   ],
   "source": [
    "df.head(5)"
   ]
  },
  {
   "cell_type": "code",
   "execution_count": 15,
   "metadata": {},
   "outputs": [
    {
     "data": {
      "text/plain": [
       "float32                5\n",
       "int32                  4\n",
       "object                 3\n",
       "Int32                  3\n",
       "int16                  2\n",
       "datetime64[ns, UTC]    2\n",
       "dtype: int64"
      ]
     },
     "execution_count": 15,
     "metadata": {},
     "output_type": "execute_result"
    }
   ],
   "source": [
    "df.dtypes.value_counts()"
   ]
  },
  {
   "cell_type": "code",
   "execution_count": 16,
   "metadata": {},
   "outputs": [
    {
     "name": "stdout",
     "output_type": "stream",
     "text": [
      "<class 'pandas.core.frame.DataFrame'>\n",
      "RangeIndex: 298702 entries, 0 to 298701\n",
      "Data columns (total 19 columns):\n",
      "id_pedido                  298702 non-null int32\n",
      "id_carrinho                298702 non-null int32\n",
      "status                     298702 non-null int16\n",
      "desc_status                298702 non-null object\n",
      "id_cliente                 298702 non-null int32\n",
      "id_distribuidor            298702 non-null int32\n",
      "id_sku                     231509 non-null Int32\n",
      "id_produto                 270994 non-null Int32\n",
      "produto                    298702 non-null object\n",
      "anomes_carrinho            298702 non-null int16\n",
      "data_carrinho              298702 non-null datetime64[ns, UTC]\n",
      "anomes_status_pedido       52322 non-null Int32\n",
      "data_status_pedido         52322 non-null datetime64[ns, UTC]\n",
      "quantidade                 298536 non-null float32\n",
      "volumepedidos              298401 non-null float32\n",
      "volumecompras              31799 non-null float32\n",
      "volumependente             827 non-null float32\n",
      "volumecanceladorecusado    19654 non-null float32\n",
      "meio_pagamento             275988 non-null object\n",
      "dtypes: Int32(3), datetime64[ns, UTC](2), float32(5), int16(2), int32(4), object(3)\n",
      "memory usage: 27.1+ MB\n"
     ]
    }
   ],
   "source": [
    "df.info()"
   ]
  },
  {
   "cell_type": "markdown",
   "metadata": {},
   "source": [
    "Conclui que apesar de ter 298702 carrinhos criados só 52322 viram pedidos"
   ]
  },
  {
   "cell_type": "markdown",
   "metadata": {},
   "source": [
    "## 2.4. Dados em Falta (NaN)"
   ]
  },
  {
   "cell_type": "code",
   "execution_count": 17,
   "metadata": {},
   "outputs": [],
   "source": [
    "def missing_data(data):\n",
    "    #transformando os dados num objecto Series\n",
    "    total = data.isnull().sum()\n",
    "    \n",
    "    # calculando a percentagem por coluna\n",
    "    percent = round(data.isnull().sum() / len(data) * 100, 2)\n",
    "    \n",
    "    #A função concat coloca uma Series/Dataframe a seguir ao outro segundo o eixo que se quiser\n",
    "    tt = pd.concat([total, percent], axis=1, keys=['Total', 'Percent'])\n",
    "    \n",
    "    #colcando o data types das colunas numa lista\n",
    "    types = []\n",
    "    for col in data.columns:\n",
    "        dtype = str(data[col].dtype)\n",
    "        types.append(dtype)\n",
    "    tt['Types'] = types\n",
    "    return(np.transpose(tt))"
   ]
  },
  {
   "cell_type": "code",
   "execution_count": 18,
   "metadata": {},
   "outputs": [
    {
     "name": "stdout",
     "output_type": "stream",
     "text": [
      "Wall time: 263 ms\n"
     ]
    },
    {
     "data": {
      "text/html": [
       "<div>\n",
       "<style scoped>\n",
       "    .dataframe tbody tr th:only-of-type {\n",
       "        vertical-align: middle;\n",
       "    }\n",
       "\n",
       "    .dataframe tbody tr th {\n",
       "        vertical-align: top;\n",
       "    }\n",
       "\n",
       "    .dataframe thead th {\n",
       "        text-align: right;\n",
       "    }\n",
       "</style>\n",
       "<table border=\"1\" class=\"dataframe\">\n",
       "  <thead>\n",
       "    <tr style=\"text-align: right;\">\n",
       "      <th></th>\n",
       "      <th>id_pedido</th>\n",
       "      <th>id_carrinho</th>\n",
       "      <th>status</th>\n",
       "      <th>desc_status</th>\n",
       "      <th>id_cliente</th>\n",
       "      <th>id_distribuidor</th>\n",
       "      <th>id_sku</th>\n",
       "      <th>id_produto</th>\n",
       "      <th>produto</th>\n",
       "      <th>anomes_carrinho</th>\n",
       "      <th>data_carrinho</th>\n",
       "      <th>anomes_status_pedido</th>\n",
       "      <th>data_status_pedido</th>\n",
       "      <th>quantidade</th>\n",
       "      <th>volumepedidos</th>\n",
       "      <th>volumecompras</th>\n",
       "      <th>volumependente</th>\n",
       "      <th>volumecanceladorecusado</th>\n",
       "      <th>meio_pagamento</th>\n",
       "    </tr>\n",
       "  </thead>\n",
       "  <tbody>\n",
       "    <tr>\n",
       "      <th>Total</th>\n",
       "      <td>0</td>\n",
       "      <td>0</td>\n",
       "      <td>0</td>\n",
       "      <td>0</td>\n",
       "      <td>0</td>\n",
       "      <td>0</td>\n",
       "      <td>67193</td>\n",
       "      <td>27708</td>\n",
       "      <td>0</td>\n",
       "      <td>0</td>\n",
       "      <td>0</td>\n",
       "      <td>246380</td>\n",
       "      <td>246380</td>\n",
       "      <td>166</td>\n",
       "      <td>301</td>\n",
       "      <td>266903</td>\n",
       "      <td>297875</td>\n",
       "      <td>279048</td>\n",
       "      <td>22714</td>\n",
       "    </tr>\n",
       "    <tr>\n",
       "      <th>Percent</th>\n",
       "      <td>0</td>\n",
       "      <td>0</td>\n",
       "      <td>0</td>\n",
       "      <td>0</td>\n",
       "      <td>0</td>\n",
       "      <td>0</td>\n",
       "      <td>22.49</td>\n",
       "      <td>9.28</td>\n",
       "      <td>0</td>\n",
       "      <td>0</td>\n",
       "      <td>0</td>\n",
       "      <td>82.48</td>\n",
       "      <td>82.48</td>\n",
       "      <td>0.06</td>\n",
       "      <td>0.1</td>\n",
       "      <td>89.35</td>\n",
       "      <td>99.72</td>\n",
       "      <td>93.42</td>\n",
       "      <td>7.6</td>\n",
       "    </tr>\n",
       "    <tr>\n",
       "      <th>Types</th>\n",
       "      <td>int32</td>\n",
       "      <td>int32</td>\n",
       "      <td>int16</td>\n",
       "      <td>object</td>\n",
       "      <td>int32</td>\n",
       "      <td>int32</td>\n",
       "      <td>Int32</td>\n",
       "      <td>Int32</td>\n",
       "      <td>object</td>\n",
       "      <td>int16</td>\n",
       "      <td>datetime64[ns, UTC]</td>\n",
       "      <td>Int32</td>\n",
       "      <td>datetime64[ns, UTC]</td>\n",
       "      <td>float32</td>\n",
       "      <td>float32</td>\n",
       "      <td>float32</td>\n",
       "      <td>float32</td>\n",
       "      <td>float32</td>\n",
       "      <td>object</td>\n",
       "    </tr>\n",
       "  </tbody>\n",
       "</table>\n",
       "</div>"
      ],
      "text/plain": [
       "        id_pedido id_carrinho status desc_status id_cliente id_distribuidor  \\\n",
       "Total           0           0      0           0          0               0   \n",
       "Percent         0           0      0           0          0               0   \n",
       "Types       int32       int32  int16      object      int32           int32   \n",
       "\n",
       "        id_sku id_produto produto anomes_carrinho        data_carrinho  \\\n",
       "Total    67193      27708       0               0                    0   \n",
       "Percent  22.49       9.28       0               0                    0   \n",
       "Types    Int32      Int32  object           int16  datetime64[ns, UTC]   \n",
       "\n",
       "        anomes_status_pedido   data_status_pedido quantidade volumepedidos  \\\n",
       "Total                 246380               246380        166           301   \n",
       "Percent                82.48                82.48       0.06           0.1   \n",
       "Types                  Int32  datetime64[ns, UTC]    float32       float32   \n",
       "\n",
       "        volumecompras volumependente volumecanceladorecusado meio_pagamento  \n",
       "Total          266903         297875                  279048          22714  \n",
       "Percent         89.35          99.72                   93.42            7.6  \n",
       "Types         float32        float32                 float32         object  "
      ]
     },
     "execution_count": 18,
     "metadata": {},
     "output_type": "execute_result"
    }
   ],
   "source": [
    "%%time\n",
    "missing_data(df)"
   ]
  },
  {
   "cell_type": "markdown",
   "metadata": {},
   "source": [
    "Como existem 67193 sku não encontrados, não se consegue de forma lógica analisar o produto e sua marca, pelo que se fará um drop dessas linhas"
   ]
  },
  {
   "cell_type": "code",
   "execution_count": 19,
   "metadata": {},
   "outputs": [],
   "source": [
    "df.dropna(axis=0, subset=['id_sku'], inplace = True)"
   ]
  },
  {
   "cell_type": "code",
   "execution_count": 20,
   "metadata": {},
   "outputs": [
    {
     "data": {
      "text/html": [
       "<div>\n",
       "<style scoped>\n",
       "    .dataframe tbody tr th:only-of-type {\n",
       "        vertical-align: middle;\n",
       "    }\n",
       "\n",
       "    .dataframe tbody tr th {\n",
       "        vertical-align: top;\n",
       "    }\n",
       "\n",
       "    .dataframe thead th {\n",
       "        text-align: right;\n",
       "    }\n",
       "</style>\n",
       "<table border=\"1\" class=\"dataframe\">\n",
       "  <thead>\n",
       "    <tr style=\"text-align: right;\">\n",
       "      <th></th>\n",
       "      <th>id_pedido</th>\n",
       "      <th>id_carrinho</th>\n",
       "      <th>status</th>\n",
       "      <th>desc_status</th>\n",
       "      <th>id_cliente</th>\n",
       "      <th>id_distribuidor</th>\n",
       "      <th>id_sku</th>\n",
       "      <th>id_produto</th>\n",
       "      <th>produto</th>\n",
       "      <th>anomes_carrinho</th>\n",
       "      <th>data_carrinho</th>\n",
       "      <th>anomes_status_pedido</th>\n",
       "      <th>data_status_pedido</th>\n",
       "      <th>quantidade</th>\n",
       "      <th>volumepedidos</th>\n",
       "      <th>volumecompras</th>\n",
       "      <th>volumependente</th>\n",
       "      <th>volumecanceladorecusado</th>\n",
       "      <th>meio_pagamento</th>\n",
       "    </tr>\n",
       "  </thead>\n",
       "  <tbody>\n",
       "    <tr>\n",
       "      <th>Total</th>\n",
       "      <td>0</td>\n",
       "      <td>0</td>\n",
       "      <td>0</td>\n",
       "      <td>0</td>\n",
       "      <td>0</td>\n",
       "      <td>0</td>\n",
       "      <td>0</td>\n",
       "      <td>0</td>\n",
       "      <td>0</td>\n",
       "      <td>0</td>\n",
       "      <td>0</td>\n",
       "      <td>185842</td>\n",
       "      <td>185842</td>\n",
       "      <td>0</td>\n",
       "      <td>0</td>\n",
       "      <td>203542</td>\n",
       "      <td>230715</td>\n",
       "      <td>214603</td>\n",
       "      <td>19338</td>\n",
       "    </tr>\n",
       "    <tr>\n",
       "      <th>Percent</th>\n",
       "      <td>0</td>\n",
       "      <td>0</td>\n",
       "      <td>0</td>\n",
       "      <td>0</td>\n",
       "      <td>0</td>\n",
       "      <td>0</td>\n",
       "      <td>0</td>\n",
       "      <td>0</td>\n",
       "      <td>0</td>\n",
       "      <td>0</td>\n",
       "      <td>0</td>\n",
       "      <td>80.27</td>\n",
       "      <td>80.27</td>\n",
       "      <td>0</td>\n",
       "      <td>0</td>\n",
       "      <td>87.92</td>\n",
       "      <td>99.66</td>\n",
       "      <td>92.7</td>\n",
       "      <td>8.35</td>\n",
       "    </tr>\n",
       "    <tr>\n",
       "      <th>Types</th>\n",
       "      <td>int32</td>\n",
       "      <td>int32</td>\n",
       "      <td>int16</td>\n",
       "      <td>object</td>\n",
       "      <td>int32</td>\n",
       "      <td>int32</td>\n",
       "      <td>Int32</td>\n",
       "      <td>Int32</td>\n",
       "      <td>object</td>\n",
       "      <td>int16</td>\n",
       "      <td>datetime64[ns, UTC]</td>\n",
       "      <td>Int32</td>\n",
       "      <td>datetime64[ns, UTC]</td>\n",
       "      <td>float32</td>\n",
       "      <td>float32</td>\n",
       "      <td>float32</td>\n",
       "      <td>float32</td>\n",
       "      <td>float32</td>\n",
       "      <td>object</td>\n",
       "    </tr>\n",
       "  </tbody>\n",
       "</table>\n",
       "</div>"
      ],
      "text/plain": [
       "        id_pedido id_carrinho status desc_status id_cliente id_distribuidor  \\\n",
       "Total           0           0      0           0          0               0   \n",
       "Percent         0           0      0           0          0               0   \n",
       "Types       int32       int32  int16      object      int32           int32   \n",
       "\n",
       "        id_sku id_produto produto anomes_carrinho        data_carrinho  \\\n",
       "Total        0          0       0               0                    0   \n",
       "Percent      0          0       0               0                    0   \n",
       "Types    Int32      Int32  object           int16  datetime64[ns, UTC]   \n",
       "\n",
       "        anomes_status_pedido   data_status_pedido quantidade volumepedidos  \\\n",
       "Total                 185842               185842          0             0   \n",
       "Percent                80.27                80.27          0             0   \n",
       "Types                  Int32  datetime64[ns, UTC]    float32       float32   \n",
       "\n",
       "        volumecompras volumependente volumecanceladorecusado meio_pagamento  \n",
       "Total          203542         230715                  214603          19338  \n",
       "Percent         87.92          99.66                    92.7           8.35  \n",
       "Types         float32        float32                 float32         object  "
      ]
     },
     "execution_count": 20,
     "metadata": {},
     "output_type": "execute_result"
    }
   ],
   "source": [
    "missing_data(df)"
   ]
  },
  {
   "cell_type": "code",
   "execution_count": 21,
   "metadata": {},
   "outputs": [
    {
     "data": {
      "text/plain": [
       "(231509, 19)"
      ]
     },
     "execution_count": 21,
     "metadata": {},
     "output_type": "execute_result"
    }
   ],
   "source": [
    "df.shape"
   ]
  },
  {
   "cell_type": "code",
   "execution_count": 22,
   "metadata": {},
   "outputs": [
    {
     "data": {
      "text/plain": [
       "Carrinho Abandonado    185842\n",
       "Aprovado                27967\n",
       "Cancelado/Recusado      16906\n",
       "Pendente                  794\n",
       "Name: desc_status, dtype: int64"
      ]
     },
     "execution_count": 22,
     "metadata": {},
     "output_type": "execute_result"
    }
   ],
   "source": [
    "df.desc_status.value_counts()"
   ]
  },
  {
   "cell_type": "markdown",
   "metadata": {},
   "source": [
    "# 3. Feature Engineering"
   ]
  },
  {
   "cell_type": "code",
   "execution_count": 40,
   "metadata": {},
   "outputs": [
    {
     "name": "stderr",
     "output_type": "stream",
     "text": [
      "C:\\ProgramData\\Anaconda3\\lib\\site-packages\\ipykernel_launcher.py:9: RuntimeWarning: invalid value encountered in double_scalars\n",
      "  if __name__ == '__main__':\n"
     ]
    },
    {
     "data": {
      "text/html": [
       "<div>\n",
       "<style scoped>\n",
       "    .dataframe tbody tr th:only-of-type {\n",
       "        vertical-align: middle;\n",
       "    }\n",
       "\n",
       "    .dataframe tbody tr th {\n",
       "        vertical-align: top;\n",
       "    }\n",
       "\n",
       "    .dataframe thead th {\n",
       "        text-align: right;\n",
       "    }\n",
       "</style>\n",
       "<table border=\"1\" class=\"dataframe\">\n",
       "  <thead>\n",
       "    <tr style=\"text-align: right;\">\n",
       "      <th></th>\n",
       "      <th>pedidos</th>\n",
       "      <th>pedidos_efetivos</th>\n",
       "      <th>pedidos_cancelados</th>\n",
       "      <th>volume_compras</th>\n",
       "      <th>volume_cancelados</th>\n",
       "      <th>tk_med_pedido</th>\n",
       "      <th>data_cadastro</th>\n",
       "      <th>data_ult_pedido</th>\n",
       "      <th>frequencia</th>\n",
       "      <th>recencia_max</th>\n",
       "    </tr>\n",
       "    <tr>\n",
       "      <th>id_cliente</th>\n",
       "      <th></th>\n",
       "      <th></th>\n",
       "      <th></th>\n",
       "      <th></th>\n",
       "      <th></th>\n",
       "      <th></th>\n",
       "      <th></th>\n",
       "      <th></th>\n",
       "      <th></th>\n",
       "      <th></th>\n",
       "    </tr>\n",
       "  </thead>\n",
       "  <tbody>\n",
       "    <tr>\n",
       "      <th>3</th>\n",
       "      <td>11125</td>\n",
       "      <td>1299</td>\n",
       "      <td>46</td>\n",
       "      <td>648154.520829</td>\n",
       "      <td>22187.4104</td>\n",
       "      <td>498.964219</td>\n",
       "      <td>2015-11-11 20:28:39.699416+00:00</td>\n",
       "      <td>2019-10-28 15:22:54.006572+00:00</td>\n",
       "      <td>1.050678</td>\n",
       "      <td>55.016411</td>\n",
       "    </tr>\n",
       "    <tr>\n",
       "      <th>1072</th>\n",
       "      <td>2504</td>\n",
       "      <td>242</td>\n",
       "      <td>19</td>\n",
       "      <td>186223.390200</td>\n",
       "      <td>13828.3778</td>\n",
       "      <td>769.518141</td>\n",
       "      <td>2016-11-16 13:17:29.442304+00:00</td>\n",
       "      <td>2019-10-29 15:28:26.643484+00:00</td>\n",
       "      <td>4.137238</td>\n",
       "      <td>53.610441</td>\n",
       "    </tr>\n",
       "    <tr>\n",
       "      <th>1456</th>\n",
       "      <td>889</td>\n",
       "      <td>237</td>\n",
       "      <td>19</td>\n",
       "      <td>402749.971600</td>\n",
       "      <td>31949.1100</td>\n",
       "      <td>1699.366969</td>\n",
       "      <td>2017-01-31 16:31:12.816499+00:00</td>\n",
       "      <td>2019-10-24 13:01:55.891945+00:00</td>\n",
       "      <td>3.427059</td>\n",
       "      <td>56.178038</td>\n",
       "    </tr>\n",
       "    <tr>\n",
       "      <th>130</th>\n",
       "      <td>502</td>\n",
       "      <td>133</td>\n",
       "      <td>6</td>\n",
       "      <td>117172.042740</td>\n",
       "      <td>3599.0600</td>\n",
       "      <td>880.992803</td>\n",
       "      <td>2016-03-21 15:42:25.575691+00:00</td>\n",
       "      <td>2019-02-12 14:53:49.822570+00:00</td>\n",
       "      <td>7.666422</td>\n",
       "      <td>294.976786</td>\n",
       "    </tr>\n",
       "    <tr>\n",
       "      <th>4211</th>\n",
       "      <td>340</td>\n",
       "      <td>117</td>\n",
       "      <td>5</td>\n",
       "      <td>79424.871230</td>\n",
       "      <td>3699.0560</td>\n",
       "      <td>678.845053</td>\n",
       "      <td>2018-02-23 12:15:37.023686+00:00</td>\n",
       "      <td>2019-09-28 10:13:54.830582+00:00</td>\n",
       "      <td>4.809147</td>\n",
       "      <td>42.893191</td>\n",
       "    </tr>\n",
       "    <tr>\n",
       "      <th>...</th>\n",
       "      <td>...</td>\n",
       "      <td>...</td>\n",
       "      <td>...</td>\n",
       "      <td>...</td>\n",
       "      <td>...</td>\n",
       "      <td>...</td>\n",
       "      <td>...</td>\n",
       "      <td>...</td>\n",
       "      <td>...</td>\n",
       "      <td>...</td>\n",
       "    </tr>\n",
       "    <tr>\n",
       "      <th>69700</th>\n",
       "      <td>1</td>\n",
       "      <td>0</td>\n",
       "      <td>0</td>\n",
       "      <td>0.000000</td>\n",
       "      <td>0.0000</td>\n",
       "      <td>NaN</td>\n",
       "      <td>2019-02-25 19:35:19.358659+00:00</td>\n",
       "      <td>NaT</td>\n",
       "      <td>NaN</td>\n",
       "      <td>NaN</td>\n",
       "    </tr>\n",
       "    <tr>\n",
       "      <th>69707</th>\n",
       "      <td>2</td>\n",
       "      <td>0</td>\n",
       "      <td>0</td>\n",
       "      <td>0.000000</td>\n",
       "      <td>0.0000</td>\n",
       "      <td>NaN</td>\n",
       "      <td>2019-02-25 19:42:57.947170+00:00</td>\n",
       "      <td>NaT</td>\n",
       "      <td>NaN</td>\n",
       "      <td>NaN</td>\n",
       "    </tr>\n",
       "    <tr>\n",
       "      <th>69723</th>\n",
       "      <td>1</td>\n",
       "      <td>0</td>\n",
       "      <td>0</td>\n",
       "      <td>0.000000</td>\n",
       "      <td>0.0000</td>\n",
       "      <td>NaN</td>\n",
       "      <td>2019-02-25 20:06:45.955674+00:00</td>\n",
       "      <td>NaT</td>\n",
       "      <td>NaN</td>\n",
       "      <td>NaN</td>\n",
       "    </tr>\n",
       "    <tr>\n",
       "      <th>69743</th>\n",
       "      <td>1</td>\n",
       "      <td>0</td>\n",
       "      <td>0</td>\n",
       "      <td>0.000000</td>\n",
       "      <td>0.0000</td>\n",
       "      <td>NaN</td>\n",
       "      <td>2019-02-25 20:32:11.373127+00:00</td>\n",
       "      <td>NaT</td>\n",
       "      <td>NaN</td>\n",
       "      <td>NaN</td>\n",
       "    </tr>\n",
       "    <tr>\n",
       "      <th>1643516</th>\n",
       "      <td>1</td>\n",
       "      <td>0</td>\n",
       "      <td>0</td>\n",
       "      <td>0.000000</td>\n",
       "      <td>0.0000</td>\n",
       "      <td>NaN</td>\n",
       "      <td>2019-10-31 04:21:47.601898+00:00</td>\n",
       "      <td>NaT</td>\n",
       "      <td>NaN</td>\n",
       "      <td>NaN</td>\n",
       "    </tr>\n",
       "  </tbody>\n",
       "</table>\n",
       "<p>12606 rows × 10 columns</p>\n",
       "</div>"
      ],
      "text/plain": [
       "            pedidos  pedidos_efetivos  pedidos_cancelados  volume_compras  \\\n",
       "id_cliente                                                                  \n",
       "3             11125              1299                  46   648154.520829   \n",
       "1072           2504               242                  19   186223.390200   \n",
       "1456            889               237                  19   402749.971600   \n",
       "130             502               133                   6   117172.042740   \n",
       "4211            340               117                   5    79424.871230   \n",
       "...             ...               ...                 ...             ...   \n",
       "69700             1                 0                   0        0.000000   \n",
       "69707             2                 0                   0        0.000000   \n",
       "69723             1                 0                   0        0.000000   \n",
       "69743             1                 0                   0        0.000000   \n",
       "1643516           1                 0                   0        0.000000   \n",
       "\n",
       "            volume_cancelados  tk_med_pedido                    data_cadastro  \\\n",
       "id_cliente                                                                      \n",
       "3                  22187.4104     498.964219 2015-11-11 20:28:39.699416+00:00   \n",
       "1072               13828.3778     769.518141 2016-11-16 13:17:29.442304+00:00   \n",
       "1456               31949.1100    1699.366969 2017-01-31 16:31:12.816499+00:00   \n",
       "130                 3599.0600     880.992803 2016-03-21 15:42:25.575691+00:00   \n",
       "4211                3699.0560     678.845053 2018-02-23 12:15:37.023686+00:00   \n",
       "...                       ...            ...                              ...   \n",
       "69700                  0.0000            NaN 2019-02-25 19:35:19.358659+00:00   \n",
       "69707                  0.0000            NaN 2019-02-25 19:42:57.947170+00:00   \n",
       "69723                  0.0000            NaN 2019-02-25 20:06:45.955674+00:00   \n",
       "69743                  0.0000            NaN 2019-02-25 20:32:11.373127+00:00   \n",
       "1643516                0.0000            NaN 2019-10-31 04:21:47.601898+00:00   \n",
       "\n",
       "                            data_ult_pedido  frequencia  recencia_max  \n",
       "id_cliente                                                             \n",
       "3          2019-10-28 15:22:54.006572+00:00    1.050678     55.016411  \n",
       "1072       2019-10-29 15:28:26.643484+00:00    4.137238     53.610441  \n",
       "1456       2019-10-24 13:01:55.891945+00:00    3.427059     56.178038  \n",
       "130        2019-02-12 14:53:49.822570+00:00    7.666422    294.976786  \n",
       "4211       2019-09-28 10:13:54.830582+00:00    4.809147     42.893191  \n",
       "...                                     ...         ...           ...  \n",
       "69700                                   NaT         NaN           NaN  \n",
       "69707                                   NaT         NaN           NaN  \n",
       "69723                                   NaT         NaN           NaN  \n",
       "69743                                   NaT         NaN           NaN  \n",
       "1643516                                 NaT         NaN           NaN  \n",
       "\n",
       "[12606 rows x 10 columns]"
      ]
     },
     "execution_count": 40,
     "metadata": {},
     "output_type": "execute_result"
    }
   ],
   "source": [
    "def f(x):\n",
    "    d = {}\n",
    "    \n",
    "    d['pedidos'] = x['id_pedido'].count()\n",
    "    d['pedidos_efetivos'] = x['volumecompras'].count()\n",
    "    d['pedidos_cancelados'] = x['volumecanceladorecusado'].count()\n",
    "    d['volume_compras'] = x['volumecompras'].sum()\n",
    "    d['volume_cancelados'] = x['volumecanceladorecusado'].sum()\n",
    "    d['max_pedido'] = x['volumecanceladorecusado'].max()\n",
    "    d['tk_med_pedido'] =  x['volumecompras'].sum() / x['volumecompras'].count()\n",
    "    d['data_cadastro'] = x['data_carrinho'].min()\n",
    "    d['data_ult_pedido'] = x['data_status_pedido'].max()\n",
    "     \n",
    "    d['frequencia'] = (x['data_status_pedido'] - x['data_status_pedido'].shift(1)).mean() / np.timedelta64(1, 'D')\n",
    "    d['recencia_max'] = (x['data_status_pedido'] - x['data_status_pedido'].shift(1)).max() / np.timedelta64(1, 'D')\n",
    "    \n",
    "    return pd.Series(d, index=['pedidos', 'pedidos_efetivos', \n",
    "                               'pedidos_cancelados', 'volume_compras',\n",
    "                               'volume_cancelados','max_pedido',\n",
    "                               'tk_med_pedido', 'data_cadastro',\n",
    "                               'data_ult_pedido','frequencia','recencia_max'])\n",
    "\n",
    "df_pedidos.sort_values(by='data_status_pedido', ascending = True).groupby(by='id_cliente').apply(f).sort_values(by='pedidos_efetivos', ascending = False)"
   ]
  },
  {
   "cell_type": "code",
   "execution_count": null,
   "metadata": {},
   "outputs": [],
   "source": []
  },
  {
   "cell_type": "code",
   "execution_count": null,
   "metadata": {},
   "outputs": [],
   "source": []
  },
  {
   "cell_type": "code",
   "execution_count": null,
   "metadata": {},
   "outputs": [],
   "source": []
  },
  {
   "cell_type": "code",
   "execution_count": 19,
   "metadata": {},
   "outputs": [],
   "source": [
    "df_clients = df_clients.pedidos.loc[(df_clients.pedidos!=0)]"
   ]
  },
  {
   "cell_type": "code",
   "execution_count": 20,
   "metadata": {},
   "outputs": [
    {
     "data": {
      "text/plain": [
       "id_cliente\n",
       "3          8569\n",
       "1072       1174\n",
       "218003      954\n",
       "4050        757\n",
       "4211        747\n",
       "           ... \n",
       "3978          1\n",
       "457985        1\n",
       "1418475       1\n",
       "823           1\n",
       "69431         1\n",
       "Name: pedidos, Length: 1352, dtype: int64"
      ]
     },
     "execution_count": 20,
     "metadata": {},
     "output_type": "execute_result"
    }
   ],
   "source": [
    "df_clients"
   ]
  }
 ],
 "metadata": {
  "kernelspec": {
   "display_name": "Python 3",
   "language": "python",
   "name": "python3"
  },
  "language_info": {
   "codemirror_mode": {
    "name": "ipython",
    "version": 3
   },
   "file_extension": ".py",
   "mimetype": "text/x-python",
   "name": "python",
   "nbconvert_exporter": "python",
   "pygments_lexer": "ipython3",
   "version": "3.7.3"
  }
 },
 "nbformat": 4,
 "nbformat_minor": 4
}
